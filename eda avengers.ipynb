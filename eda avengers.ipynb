{
 "cells": [
  {
   "cell_type": "code",
   "execution_count": 8,
   "id": "22f4f21f",
   "metadata": {},
   "outputs": [],
   "source": [
    "import numpy as np \n",
    "import pandas as pd \n",
    "import matplotlib.pyplot as plt\n",
    "import seaborn as sns\n",
    "import os\n",
    "from wordcloud import WordCloud\n",
    "import nltk\n",
    "from PIL import Image\n",
    "\n",
    "%matplotlib inline\n"
   ]
  },
  {
   "cell_type": "code",
   "execution_count": 9,
   "id": "edb8b85a",
   "metadata": {},
   "outputs": [
    {
     "name": "stdout",
     "output_type": "stream",
     "text": [
      "Requirement already satisfied: wordcloud in c:\\users\\ummer\\anaconda3\\lib\\site-packages (1.8.2.2)\n",
      "Requirement already satisfied: pillow in c:\\users\\ummer\\anaconda3\\lib\\site-packages (from wordcloud) (9.0.1)\n",
      "Requirement already satisfied: numpy>=1.6.1 in c:\\users\\ummer\\anaconda3\\lib\\site-packages (from wordcloud) (1.21.5)\n",
      "Requirement already satisfied: matplotlib in c:\\users\\ummer\\anaconda3\\lib\\site-packages (from wordcloud) (3.5.1)\n",
      "Requirement already satisfied: python-dateutil>=2.7 in c:\\users\\ummer\\anaconda3\\lib\\site-packages (from matplotlib->wordcloud) (2.8.2)\n",
      "Requirement already satisfied: kiwisolver>=1.0.1 in c:\\users\\ummer\\anaconda3\\lib\\site-packages (from matplotlib->wordcloud) (1.3.2)\n",
      "Requirement already satisfied: packaging>=20.0 in c:\\users\\ummer\\anaconda3\\lib\\site-packages (from matplotlib->wordcloud) (21.3)\n",
      "Requirement already satisfied: pyparsing>=2.2.1 in c:\\users\\ummer\\anaconda3\\lib\\site-packages (from matplotlib->wordcloud) (3.0.4)\n",
      "Requirement already satisfied: cycler>=0.10 in c:\\users\\ummer\\anaconda3\\lib\\site-packages (from matplotlib->wordcloud) (0.11.0)\n",
      "Requirement already satisfied: fonttools>=4.22.0 in c:\\users\\ummer\\anaconda3\\lib\\site-packages (from matplotlib->wordcloud) (4.25.0)\n",
      "Requirement already satisfied: six>=1.5 in c:\\users\\ummer\\anaconda3\\lib\\site-packages (from python-dateutil>=2.7->matplotlib->wordcloud) (1.16.0)\n"
     ]
    }
   ],
   "source": [
    "!pip install wordcloud"
   ]
  },
  {
   "cell_type": "code",
   "execution_count": 13,
   "id": "1b0fb4a2",
   "metadata": {},
   "outputs": [],
   "source": [
    "data = pd.read_csv(\"avengers.csv\",encoding = \"latin-1\")\n"
   ]
  },
  {
   "cell_type": "code",
   "execution_count": 14,
   "id": "52b1d8b8",
   "metadata": {},
   "outputs": [
    {
     "data": {
      "text/html": [
       "<div>\n",
       "<style scoped>\n",
       "    .dataframe tbody tr th:only-of-type {\n",
       "        vertical-align: middle;\n",
       "    }\n",
       "\n",
       "    .dataframe tbody tr th {\n",
       "        vertical-align: top;\n",
       "    }\n",
       "\n",
       "    .dataframe thead th {\n",
       "        text-align: right;\n",
       "    }\n",
       "</style>\n",
       "<table border=\"1\" class=\"dataframe\">\n",
       "  <thead>\n",
       "    <tr style=\"text-align: right;\">\n",
       "      <th></th>\n",
       "      <th>URL</th>\n",
       "      <th>Name/Alias</th>\n",
       "      <th>Appearances</th>\n",
       "      <th>Current?</th>\n",
       "      <th>Gender</th>\n",
       "      <th>Probationary Introl</th>\n",
       "      <th>Full/Reserve Avengers Intro</th>\n",
       "      <th>Year</th>\n",
       "      <th>Years since joining</th>\n",
       "      <th>Honorary</th>\n",
       "      <th>...</th>\n",
       "      <th>Return1</th>\n",
       "      <th>Death2</th>\n",
       "      <th>Return2</th>\n",
       "      <th>Death3</th>\n",
       "      <th>Return3</th>\n",
       "      <th>Death4</th>\n",
       "      <th>Return4</th>\n",
       "      <th>Death5</th>\n",
       "      <th>Return5</th>\n",
       "      <th>Notes</th>\n",
       "    </tr>\n",
       "  </thead>\n",
       "  <tbody>\n",
       "    <tr>\n",
       "      <th>0</th>\n",
       "      <td>http://marvel.wikia.com/Henry_Pym_(Earth-616)</td>\n",
       "      <td>Henry Jonathan \"Hank\" Pym</td>\n",
       "      <td>1269</td>\n",
       "      <td>YES</td>\n",
       "      <td>MALE</td>\n",
       "      <td>NaN</td>\n",
       "      <td>Sep-63</td>\n",
       "      <td>1963</td>\n",
       "      <td>52</td>\n",
       "      <td>Full</td>\n",
       "      <td>...</td>\n",
       "      <td>NO</td>\n",
       "      <td>NaN</td>\n",
       "      <td>NaN</td>\n",
       "      <td>NaN</td>\n",
       "      <td>NaN</td>\n",
       "      <td>NaN</td>\n",
       "      <td>NaN</td>\n",
       "      <td>NaN</td>\n",
       "      <td>NaN</td>\n",
       "      <td>Merged with Ultron in Rage of Ultron Vol. 1. A...</td>\n",
       "    </tr>\n",
       "    <tr>\n",
       "      <th>1</th>\n",
       "      <td>http://marvel.wikia.com/Janet_van_Dyne_(Earth-...</td>\n",
       "      <td>Janet van Dyne</td>\n",
       "      <td>1165</td>\n",
       "      <td>YES</td>\n",
       "      <td>FEMALE</td>\n",
       "      <td>NaN</td>\n",
       "      <td>Sep-63</td>\n",
       "      <td>1963</td>\n",
       "      <td>52</td>\n",
       "      <td>Full</td>\n",
       "      <td>...</td>\n",
       "      <td>YES</td>\n",
       "      <td>NaN</td>\n",
       "      <td>NaN</td>\n",
       "      <td>NaN</td>\n",
       "      <td>NaN</td>\n",
       "      <td>NaN</td>\n",
       "      <td>NaN</td>\n",
       "      <td>NaN</td>\n",
       "      <td>NaN</td>\n",
       "      <td>Dies in Secret Invasion V1:I8. Actually was se...</td>\n",
       "    </tr>\n",
       "    <tr>\n",
       "      <th>2</th>\n",
       "      <td>http://marvel.wikia.com/Anthony_Stark_(Earth-616)</td>\n",
       "      <td>Anthony Edward \"Tony\" Stark</td>\n",
       "      <td>3068</td>\n",
       "      <td>YES</td>\n",
       "      <td>MALE</td>\n",
       "      <td>NaN</td>\n",
       "      <td>Sep-63</td>\n",
       "      <td>1963</td>\n",
       "      <td>52</td>\n",
       "      <td>Full</td>\n",
       "      <td>...</td>\n",
       "      <td>YES</td>\n",
       "      <td>NaN</td>\n",
       "      <td>NaN</td>\n",
       "      <td>NaN</td>\n",
       "      <td>NaN</td>\n",
       "      <td>NaN</td>\n",
       "      <td>NaN</td>\n",
       "      <td>NaN</td>\n",
       "      <td>NaN</td>\n",
       "      <td>Death: \"Later while under the influence of Imm...</td>\n",
       "    </tr>\n",
       "    <tr>\n",
       "      <th>3</th>\n",
       "      <td>http://marvel.wikia.com/Robert_Bruce_Banner_(E...</td>\n",
       "      <td>Robert Bruce Banner</td>\n",
       "      <td>2089</td>\n",
       "      <td>YES</td>\n",
       "      <td>MALE</td>\n",
       "      <td>NaN</td>\n",
       "      <td>Sep-63</td>\n",
       "      <td>1963</td>\n",
       "      <td>52</td>\n",
       "      <td>Full</td>\n",
       "      <td>...</td>\n",
       "      <td>YES</td>\n",
       "      <td>NaN</td>\n",
       "      <td>NaN</td>\n",
       "      <td>NaN</td>\n",
       "      <td>NaN</td>\n",
       "      <td>NaN</td>\n",
       "      <td>NaN</td>\n",
       "      <td>NaN</td>\n",
       "      <td>NaN</td>\n",
       "      <td>Dies in Ghosts of the Future arc. However \"he ...</td>\n",
       "    </tr>\n",
       "    <tr>\n",
       "      <th>4</th>\n",
       "      <td>http://marvel.wikia.com/Thor_Odinson_(Earth-616)</td>\n",
       "      <td>Thor Odinson</td>\n",
       "      <td>2402</td>\n",
       "      <td>YES</td>\n",
       "      <td>MALE</td>\n",
       "      <td>NaN</td>\n",
       "      <td>Sep-63</td>\n",
       "      <td>1963</td>\n",
       "      <td>52</td>\n",
       "      <td>Full</td>\n",
       "      <td>...</td>\n",
       "      <td>YES</td>\n",
       "      <td>YES</td>\n",
       "      <td>NO</td>\n",
       "      <td>NaN</td>\n",
       "      <td>NaN</td>\n",
       "      <td>NaN</td>\n",
       "      <td>NaN</td>\n",
       "      <td>NaN</td>\n",
       "      <td>NaN</td>\n",
       "      <td>Dies in Fear Itself brought back because that'...</td>\n",
       "    </tr>\n",
       "  </tbody>\n",
       "</table>\n",
       "<p>5 rows × 21 columns</p>\n",
       "</div>"
      ],
      "text/plain": [
       "                                                 URL  \\\n",
       "0      http://marvel.wikia.com/Henry_Pym_(Earth-616)   \n",
       "1  http://marvel.wikia.com/Janet_van_Dyne_(Earth-...   \n",
       "2  http://marvel.wikia.com/Anthony_Stark_(Earth-616)   \n",
       "3  http://marvel.wikia.com/Robert_Bruce_Banner_(E...   \n",
       "4   http://marvel.wikia.com/Thor_Odinson_(Earth-616)   \n",
       "\n",
       "                    Name/Alias  Appearances Current?  Gender  \\\n",
       "0    Henry Jonathan \"Hank\" Pym         1269      YES    MALE   \n",
       "1               Janet van Dyne         1165      YES  FEMALE   \n",
       "2  Anthony Edward \"Tony\" Stark         3068      YES    MALE   \n",
       "3          Robert Bruce Banner         2089      YES    MALE   \n",
       "4                 Thor Odinson         2402      YES    MALE   \n",
       "\n",
       "  Probationary Introl Full/Reserve Avengers Intro  Year  Years since joining  \\\n",
       "0                 NaN                      Sep-63  1963                   52   \n",
       "1                 NaN                      Sep-63  1963                   52   \n",
       "2                 NaN                      Sep-63  1963                   52   \n",
       "3                 NaN                      Sep-63  1963                   52   \n",
       "4                 NaN                      Sep-63  1963                   52   \n",
       "\n",
       "  Honorary  ... Return1 Death2 Return2 Death3 Return3 Death4 Return4 Death5  \\\n",
       "0     Full  ...      NO    NaN     NaN    NaN     NaN    NaN     NaN    NaN   \n",
       "1     Full  ...     YES    NaN     NaN    NaN     NaN    NaN     NaN    NaN   \n",
       "2     Full  ...     YES    NaN     NaN    NaN     NaN    NaN     NaN    NaN   \n",
       "3     Full  ...     YES    NaN     NaN    NaN     NaN    NaN     NaN    NaN   \n",
       "4     Full  ...     YES    YES      NO    NaN     NaN    NaN     NaN    NaN   \n",
       "\n",
       "  Return5                                              Notes  \n",
       "0     NaN  Merged with Ultron in Rage of Ultron Vol. 1. A...  \n",
       "1     NaN  Dies in Secret Invasion V1:I8. Actually was se...  \n",
       "2     NaN  Death: \"Later while under the influence of Imm...  \n",
       "3     NaN  Dies in Ghosts of the Future arc. However \"he ...  \n",
       "4     NaN  Dies in Fear Itself brought back because that'...  \n",
       "\n",
       "[5 rows x 21 columns]"
      ]
     },
     "execution_count": 14,
     "metadata": {},
     "output_type": "execute_result"
    }
   ],
   "source": [
    "data.head()"
   ]
  },
  {
   "cell_type": "code",
   "execution_count": 19,
   "id": "26024523",
   "metadata": {},
   "outputs": [
    {
     "name": "stdout",
     "output_type": "stream",
     "text": [
      "<class 'pandas.core.frame.DataFrame'>\n",
      "RangeIndex: 173 entries, 0 to 172\n",
      "Data columns (total 21 columns):\n",
      " #   Column                       Non-Null Count  Dtype \n",
      "---  ------                       --------------  ----- \n",
      " 0   URL                          173 non-null    object\n",
      " 1   Name/Alias                   163 non-null    object\n",
      " 2   Appearances                  173 non-null    int64 \n",
      " 3   Current?                     173 non-null    object\n",
      " 4   Gender                       173 non-null    object\n",
      " 5   Probationary Introl          15 non-null     object\n",
      " 6   Full/Reserve Avengers Intro  159 non-null    object\n",
      " 7   Year                         173 non-null    int64 \n",
      " 8   Years since joining          173 non-null    int64 \n",
      " 9   Honorary                     173 non-null    object\n",
      " 10  Death1                       173 non-null    object\n",
      " 11  Return1                      69 non-null     object\n",
      " 12  Death2                       17 non-null     object\n",
      " 13  Return2                      16 non-null     object\n",
      " 14  Death3                       2 non-null      object\n",
      " 15  Return3                      2 non-null      object\n",
      " 16  Death4                       1 non-null      object\n",
      " 17  Return4                      1 non-null      object\n",
      " 18  Death5                       1 non-null      object\n",
      " 19  Return5                      1 non-null      object\n",
      " 20  Notes                        75 non-null     object\n",
      "dtypes: int64(3), object(18)\n",
      "memory usage: 28.5+ KB\n"
     ]
    }
   ],
   "source": [
    "data.info()"
   ]
  },
  {
   "cell_type": "code",
   "execution_count": 15,
   "id": "96b84660",
   "metadata": {},
   "outputs": [
    {
     "data": {
      "text/html": [
       "<div>\n",
       "<style scoped>\n",
       "    .dataframe tbody tr th:only-of-type {\n",
       "        vertical-align: middle;\n",
       "    }\n",
       "\n",
       "    .dataframe tbody tr th {\n",
       "        vertical-align: top;\n",
       "    }\n",
       "\n",
       "    .dataframe thead th {\n",
       "        text-align: right;\n",
       "    }\n",
       "</style>\n",
       "<table border=\"1\" class=\"dataframe\">\n",
       "  <thead>\n",
       "    <tr style=\"text-align: right;\">\n",
       "      <th></th>\n",
       "      <th>Appearances</th>\n",
       "      <th>Year</th>\n",
       "      <th>Years since joining</th>\n",
       "    </tr>\n",
       "  </thead>\n",
       "  <tbody>\n",
       "    <tr>\n",
       "      <th>count</th>\n",
       "      <td>173.000000</td>\n",
       "      <td>173.000000</td>\n",
       "      <td>173.000000</td>\n",
       "    </tr>\n",
       "    <tr>\n",
       "      <th>mean</th>\n",
       "      <td>414.052023</td>\n",
       "      <td>1988.445087</td>\n",
       "      <td>26.554913</td>\n",
       "    </tr>\n",
       "    <tr>\n",
       "      <th>std</th>\n",
       "      <td>677.991950</td>\n",
       "      <td>30.374669</td>\n",
       "      <td>30.374669</td>\n",
       "    </tr>\n",
       "    <tr>\n",
       "      <th>min</th>\n",
       "      <td>2.000000</td>\n",
       "      <td>1900.000000</td>\n",
       "      <td>0.000000</td>\n",
       "    </tr>\n",
       "    <tr>\n",
       "      <th>25%</th>\n",
       "      <td>58.000000</td>\n",
       "      <td>1979.000000</td>\n",
       "      <td>5.000000</td>\n",
       "    </tr>\n",
       "    <tr>\n",
       "      <th>50%</th>\n",
       "      <td>132.000000</td>\n",
       "      <td>1996.000000</td>\n",
       "      <td>19.000000</td>\n",
       "    </tr>\n",
       "    <tr>\n",
       "      <th>75%</th>\n",
       "      <td>491.000000</td>\n",
       "      <td>2010.000000</td>\n",
       "      <td>36.000000</td>\n",
       "    </tr>\n",
       "    <tr>\n",
       "      <th>max</th>\n",
       "      <td>4333.000000</td>\n",
       "      <td>2015.000000</td>\n",
       "      <td>115.000000</td>\n",
       "    </tr>\n",
       "  </tbody>\n",
       "</table>\n",
       "</div>"
      ],
      "text/plain": [
       "       Appearances         Year  Years since joining\n",
       "count   173.000000   173.000000           173.000000\n",
       "mean    414.052023  1988.445087            26.554913\n",
       "std     677.991950    30.374669            30.374669\n",
       "min       2.000000  1900.000000             0.000000\n",
       "25%      58.000000  1979.000000             5.000000\n",
       "50%     132.000000  1996.000000            19.000000\n",
       "75%     491.000000  2010.000000            36.000000\n",
       "max    4333.000000  2015.000000           115.000000"
      ]
     },
     "execution_count": 15,
     "metadata": {},
     "output_type": "execute_result"
    }
   ],
   "source": [
    "data.describe()"
   ]
  },
  {
   "cell_type": "code",
   "execution_count": 16,
   "id": "b2f8fd05",
   "metadata": {},
   "outputs": [
    {
     "data": {
      "text/plain": [
       "URL                              0\n",
       "Name/Alias                      10\n",
       "Appearances                      0\n",
       "Current?                         0\n",
       "Gender                           0\n",
       "Probationary Introl            158\n",
       "Full/Reserve Avengers Intro     14\n",
       "Year                             0\n",
       "Years since joining              0\n",
       "Honorary                         0\n",
       "Death1                           0\n",
       "Return1                        104\n",
       "Death2                         156\n",
       "Return2                        157\n",
       "Death3                         171\n",
       "Return3                        171\n",
       "Death4                         172\n",
       "Return4                        172\n",
       "Death5                         172\n",
       "Return5                        172\n",
       "Notes                           98\n",
       "dtype: int64"
      ]
     },
     "execution_count": 16,
     "metadata": {},
     "output_type": "execute_result"
    }
   ],
   "source": [
    "data.isnull().sum()"
   ]
  },
  {
   "cell_type": "code",
   "execution_count": 17,
   "id": "c61bd75e",
   "metadata": {},
   "outputs": [
    {
     "data": {
      "text/plain": [
       "Index(['URL', 'Name/Alias', 'Appearances', 'Current?', 'Gender',\n",
       "       'Probationary Introl', 'Full/Reserve Avengers Intro', 'Year',\n",
       "       'Years since joining', 'Honorary', 'Death1', 'Return1', 'Death2',\n",
       "       'Return2', 'Death3', 'Return3', 'Death4', 'Return4', 'Death5',\n",
       "       'Return5', 'Notes'],\n",
       "      dtype='object')"
      ]
     },
     "execution_count": 17,
     "metadata": {},
     "output_type": "execute_result"
    }
   ],
   "source": [
    "data.columns"
   ]
  },
  {
   "cell_type": "code",
   "execution_count": 30,
   "id": "a0b6ecfa",
   "metadata": {},
   "outputs": [],
   "source": [
    "data.drop(['URL'],axis=1,inplace=True)"
   ]
  },
  {
   "cell_type": "code",
   "execution_count": 18,
   "id": "ba82e236",
   "metadata": {},
   "outputs": [
    {
     "data": {
      "text/plain": [
       "Index(['URL', 'Name/Alias', 'Appearances', 'Current?', 'Gender',\n",
       "       'Probationary Introl', 'Full/Reserve Avengers Intro', 'Year',\n",
       "       'Years since joining', 'Honorary', 'Death1', 'Return1', 'Death2',\n",
       "       'Return2', 'Death3', 'Return3', 'Death4', 'Return4', 'Death5',\n",
       "       'Return5', 'Notes'],\n",
       "      dtype='object')"
      ]
     },
     "execution_count": 18,
     "metadata": {},
     "output_type": "execute_result"
    }
   ],
   "source": [
    "data.columns"
   ]
  },
  {
   "cell_type": "code",
   "execution_count": 19,
   "id": "4c91662f",
   "metadata": {},
   "outputs": [],
   "source": [
    "# Chechking null values \n",
    "def about_data(df):\n",
    "    df.info()\n",
    "    total_missing_values = df.isnull().sum().reset_index()\n",
    "    total_missing_values = total_missing_values.rename(columns={'index':'columns',0:'total missing'})\n",
    "    total_missing_values['ration of missing'] = total_missing_values['total missing']/len(df)\n",
    "    return total_missing_values"
   ]
  },
  {
   "cell_type": "code",
   "execution_count": 27,
   "id": "94cb0111",
   "metadata": {},
   "outputs": [
    {
     "data": {
      "text/plain": [
       "Name/Alias                      10\n",
       "Appearances                      0\n",
       "Current?                         0\n",
       "Gender                           0\n",
       "Probationary Introl            158\n",
       "Full/Reserve Avengers Intro     14\n",
       "Year                             0\n",
       "Years since joining              0\n",
       "Honorary                         0\n",
       "Death1                           0\n",
       "Return1                        104\n",
       "Death2                         156\n",
       "Return2                        157\n",
       "Death3                         171\n",
       "Return3                        171\n",
       "Death4                         172\n",
       "Return4                        172\n",
       "Death5                         172\n",
       "Return5                        172\n",
       "Notes                           98\n",
       "dtype: int64"
      ]
     },
     "execution_count": 27,
     "metadata": {},
     "output_type": "execute_result"
    }
   ],
   "source": [
    "data.isnull().sum()"
   ]
  },
  {
   "cell_type": "code",
   "execution_count": 20,
   "id": "9edd3e05",
   "metadata": {},
   "outputs": [
    {
     "name": "stdout",
     "output_type": "stream",
     "text": [
      "<class 'pandas.core.frame.DataFrame'>\n",
      "RangeIndex: 173 entries, 0 to 172\n",
      "Data columns (total 21 columns):\n",
      " #   Column                       Non-Null Count  Dtype \n",
      "---  ------                       --------------  ----- \n",
      " 0   URL                          173 non-null    object\n",
      " 1   Name/Alias                   163 non-null    object\n",
      " 2   Appearances                  173 non-null    int64 \n",
      " 3   Current?                     173 non-null    object\n",
      " 4   Gender                       173 non-null    object\n",
      " 5   Probationary Introl          15 non-null     object\n",
      " 6   Full/Reserve Avengers Intro  159 non-null    object\n",
      " 7   Year                         173 non-null    int64 \n",
      " 8   Years since joining          173 non-null    int64 \n",
      " 9   Honorary                     173 non-null    object\n",
      " 10  Death1                       173 non-null    object\n",
      " 11  Return1                      69 non-null     object\n",
      " 12  Death2                       17 non-null     object\n",
      " 13  Return2                      16 non-null     object\n",
      " 14  Death3                       2 non-null      object\n",
      " 15  Return3                      2 non-null      object\n",
      " 16  Death4                       1 non-null      object\n",
      " 17  Return4                      1 non-null      object\n",
      " 18  Death5                       1 non-null      object\n",
      " 19  Return5                      1 non-null      object\n",
      " 20  Notes                        75 non-null     object\n",
      "dtypes: int64(3), object(18)\n",
      "memory usage: 28.5+ KB\n"
     ]
    },
    {
     "data": {
      "text/html": [
       "<div>\n",
       "<style scoped>\n",
       "    .dataframe tbody tr th:only-of-type {\n",
       "        vertical-align: middle;\n",
       "    }\n",
       "\n",
       "    .dataframe tbody tr th {\n",
       "        vertical-align: top;\n",
       "    }\n",
       "\n",
       "    .dataframe thead th {\n",
       "        text-align: right;\n",
       "    }\n",
       "</style>\n",
       "<table border=\"1\" class=\"dataframe\">\n",
       "  <thead>\n",
       "    <tr style=\"text-align: right;\">\n",
       "      <th></th>\n",
       "      <th>columns</th>\n",
       "      <th>total missing</th>\n",
       "      <th>ration of missing</th>\n",
       "    </tr>\n",
       "  </thead>\n",
       "  <tbody>\n",
       "    <tr>\n",
       "      <th>0</th>\n",
       "      <td>URL</td>\n",
       "      <td>0</td>\n",
       "      <td>0.000000</td>\n",
       "    </tr>\n",
       "    <tr>\n",
       "      <th>1</th>\n",
       "      <td>Name/Alias</td>\n",
       "      <td>10</td>\n",
       "      <td>0.057803</td>\n",
       "    </tr>\n",
       "    <tr>\n",
       "      <th>2</th>\n",
       "      <td>Appearances</td>\n",
       "      <td>0</td>\n",
       "      <td>0.000000</td>\n",
       "    </tr>\n",
       "    <tr>\n",
       "      <th>3</th>\n",
       "      <td>Current?</td>\n",
       "      <td>0</td>\n",
       "      <td>0.000000</td>\n",
       "    </tr>\n",
       "    <tr>\n",
       "      <th>4</th>\n",
       "      <td>Gender</td>\n",
       "      <td>0</td>\n",
       "      <td>0.000000</td>\n",
       "    </tr>\n",
       "    <tr>\n",
       "      <th>5</th>\n",
       "      <td>Probationary Introl</td>\n",
       "      <td>158</td>\n",
       "      <td>0.913295</td>\n",
       "    </tr>\n",
       "    <tr>\n",
       "      <th>6</th>\n",
       "      <td>Full/Reserve Avengers Intro</td>\n",
       "      <td>14</td>\n",
       "      <td>0.080925</td>\n",
       "    </tr>\n",
       "    <tr>\n",
       "      <th>7</th>\n",
       "      <td>Year</td>\n",
       "      <td>0</td>\n",
       "      <td>0.000000</td>\n",
       "    </tr>\n",
       "    <tr>\n",
       "      <th>8</th>\n",
       "      <td>Years since joining</td>\n",
       "      <td>0</td>\n",
       "      <td>0.000000</td>\n",
       "    </tr>\n",
       "    <tr>\n",
       "      <th>9</th>\n",
       "      <td>Honorary</td>\n",
       "      <td>0</td>\n",
       "      <td>0.000000</td>\n",
       "    </tr>\n",
       "    <tr>\n",
       "      <th>10</th>\n",
       "      <td>Death1</td>\n",
       "      <td>0</td>\n",
       "      <td>0.000000</td>\n",
       "    </tr>\n",
       "    <tr>\n",
       "      <th>11</th>\n",
       "      <td>Return1</td>\n",
       "      <td>104</td>\n",
       "      <td>0.601156</td>\n",
       "    </tr>\n",
       "    <tr>\n",
       "      <th>12</th>\n",
       "      <td>Death2</td>\n",
       "      <td>156</td>\n",
       "      <td>0.901734</td>\n",
       "    </tr>\n",
       "    <tr>\n",
       "      <th>13</th>\n",
       "      <td>Return2</td>\n",
       "      <td>157</td>\n",
       "      <td>0.907514</td>\n",
       "    </tr>\n",
       "    <tr>\n",
       "      <th>14</th>\n",
       "      <td>Death3</td>\n",
       "      <td>171</td>\n",
       "      <td>0.988439</td>\n",
       "    </tr>\n",
       "    <tr>\n",
       "      <th>15</th>\n",
       "      <td>Return3</td>\n",
       "      <td>171</td>\n",
       "      <td>0.988439</td>\n",
       "    </tr>\n",
       "    <tr>\n",
       "      <th>16</th>\n",
       "      <td>Death4</td>\n",
       "      <td>172</td>\n",
       "      <td>0.994220</td>\n",
       "    </tr>\n",
       "    <tr>\n",
       "      <th>17</th>\n",
       "      <td>Return4</td>\n",
       "      <td>172</td>\n",
       "      <td>0.994220</td>\n",
       "    </tr>\n",
       "    <tr>\n",
       "      <th>18</th>\n",
       "      <td>Death5</td>\n",
       "      <td>172</td>\n",
       "      <td>0.994220</td>\n",
       "    </tr>\n",
       "    <tr>\n",
       "      <th>19</th>\n",
       "      <td>Return5</td>\n",
       "      <td>172</td>\n",
       "      <td>0.994220</td>\n",
       "    </tr>\n",
       "    <tr>\n",
       "      <th>20</th>\n",
       "      <td>Notes</td>\n",
       "      <td>98</td>\n",
       "      <td>0.566474</td>\n",
       "    </tr>\n",
       "  </tbody>\n",
       "</table>\n",
       "</div>"
      ],
      "text/plain": [
       "                        columns  total missing  ration of missing\n",
       "0                           URL              0           0.000000\n",
       "1                    Name/Alias             10           0.057803\n",
       "2                   Appearances              0           0.000000\n",
       "3                      Current?              0           0.000000\n",
       "4                        Gender              0           0.000000\n",
       "5           Probationary Introl            158           0.913295\n",
       "6   Full/Reserve Avengers Intro             14           0.080925\n",
       "7                          Year              0           0.000000\n",
       "8           Years since joining              0           0.000000\n",
       "9                      Honorary              0           0.000000\n",
       "10                       Death1              0           0.000000\n",
       "11                      Return1            104           0.601156\n",
       "12                       Death2            156           0.901734\n",
       "13                      Return2            157           0.907514\n",
       "14                       Death3            171           0.988439\n",
       "15                      Return3            171           0.988439\n",
       "16                       Death4            172           0.994220\n",
       "17                      Return4            172           0.994220\n",
       "18                       Death5            172           0.994220\n",
       "19                      Return5            172           0.994220\n",
       "20                        Notes             98           0.566474"
      ]
     },
     "execution_count": 20,
     "metadata": {},
     "output_type": "execute_result"
    }
   ],
   "source": [
    "about_data(data)"
   ]
  },
  {
   "cell_type": "code",
   "execution_count": 21,
   "id": "5197eefb",
   "metadata": {},
   "outputs": [],
   "source": [
    "data.drop('Probationary Introl',axis=1,inplace=True)"
   ]
  },
  {
   "cell_type": "code",
   "execution_count": 22,
   "id": "114b233b",
   "metadata": {},
   "outputs": [],
   "source": [
    "data['Death1'].fillna('Never Happen', inplace = True)\n",
    "data['Death2'].fillna('Never Happen', inplace = True) \n",
    "data['Death3'].fillna('Never Happen', inplace = True) \n",
    "data['Death4'].fillna('Never Happen', inplace = True) \n",
    "data['Death5'].fillna('Never Happen', inplace = True) \n",
    "data['Return1'].fillna('Never Happen', inplace = True)\n",
    "data['Return2'].fillna('Never Happen', inplace = True) \n",
    "data['Return3'].fillna('Never Happen', inplace = True) \n",
    "data['Return4'].fillna('Never Happen', inplace = True) \n",
    "data['Return5'].fillna('Never Happen', inplace = True) \n",
    "data[\"Full/Reserve Avengers Intro\"].fillna('Unknown', inplace = True)"
   ]
  },
  {
   "cell_type": "code",
   "execution_count": 23,
   "id": "ed728a9c",
   "metadata": {},
   "outputs": [],
   "source": [
    "data.Notes = data.Notes.str.replace(\"_\",\" \")"
   ]
  },
  {
   "cell_type": "code",
   "execution_count": 24,
   "id": "2e9ad4d3",
   "metadata": {},
   "outputs": [
    {
     "data": {
      "text/plain": [
       "URL                             0\n",
       "Name/Alias                     10\n",
       "Appearances                     0\n",
       "Current?                        0\n",
       "Gender                          0\n",
       "Full/Reserve Avengers Intro     0\n",
       "Year                            0\n",
       "Years since joining             0\n",
       "Honorary                        0\n",
       "Death1                          0\n",
       "Return1                         0\n",
       "Death2                          0\n",
       "Return2                         0\n",
       "Death3                          0\n",
       "Return3                         0\n",
       "Death4                          0\n",
       "Return4                         0\n",
       "Death5                          0\n",
       "Return5                         0\n",
       "Notes                          98\n",
       "dtype: int64"
      ]
     },
     "execution_count": 24,
     "metadata": {},
     "output_type": "execute_result"
    }
   ],
   "source": [
    "data.isnull().sum()"
   ]
  },
  {
   "cell_type": "code",
   "execution_count": 25,
   "id": "6ae503ac",
   "metadata": {},
   "outputs": [],
   "source": [
    "data[\"Name/Alias\"].fillna('Unknown', inplace = True) "
   ]
  },
  {
   "cell_type": "code",
   "execution_count": 26,
   "id": "f75068ba",
   "metadata": {},
   "outputs": [
    {
     "data": {
      "text/plain": [
       "URL                             0\n",
       "Name/Alias                      0\n",
       "Appearances                     0\n",
       "Current?                        0\n",
       "Gender                          0\n",
       "Full/Reserve Avengers Intro     0\n",
       "Year                            0\n",
       "Years since joining             0\n",
       "Honorary                        0\n",
       "Death1                          0\n",
       "Return1                         0\n",
       "Death2                          0\n",
       "Return2                         0\n",
       "Death3                          0\n",
       "Return3                         0\n",
       "Death4                          0\n",
       "Return4                         0\n",
       "Death5                          0\n",
       "Return5                         0\n",
       "Notes                          98\n",
       "dtype: int64"
      ]
     },
     "execution_count": 26,
     "metadata": {},
     "output_type": "execute_result"
    }
   ],
   "source": [
    "data.isnull().sum()"
   ]
  },
  {
   "cell_type": "code",
   "execution_count": 27,
   "id": "a3f26a90",
   "metadata": {},
   "outputs": [
    {
     "data": {
      "text/plain": [
       "<AxesSubplot:xlabel='Gender', ylabel='count'>"
      ]
     },
     "execution_count": 27,
     "metadata": {},
     "output_type": "execute_result"
    },
    {
     "data": {
      "image/png": "[encoded data removed]",
      "text/plain": [
       "<Figure size 720x504 with 1 Axes>"
      ]
     },
     "metadata": {},
     "output_type": "display_data"
    }
   ],
   "source": [
    "sns.set(rc={'figure.figsize':(10,7)})\n",
    "sns.countplot(data = data, x=\"Gender\",hue=\"Honorary\",palette='Set1')"
   ]
  },
  {
   "cell_type": "code",
   "execution_count": 28,
   "id": "0bb057c0",
   "metadata": {},
   "outputs": [
    {
     "data": {
      "text/plain": [
       "<AxesSubplot:xlabel='Current?', ylabel='count'>"
      ]
     },
     "execution_count": 28,
     "metadata": {},
     "output_type": "execute_result"
    },
    {
     "data": {
      "image/png": "[encoded data removed]",
      "text/plain": [
       "<Figure size 720x504 with 1 Axes>"
      ]
     },
     "metadata": {},
     "output_type": "display_data"
    }
   ],
   "source": [
    "sns.set(rc={'figure.figsize':(10,7)})\n",
    "sns.countplot(data = data, x=\"Current?\",hue=\"Gender\",palette='Paired')"
   ]
  },
  {
   "cell_type": "code",
   "execution_count": 29,
   "id": "dfb2765f",
   "metadata": {},
   "outputs": [],
   "source": [
    "def disturbition(x,title):\n",
    "    plt.figure(figsize=(10,8))\n",
    "    ax = sns.distplot(x, kde=False,bins=30)\n",
    "    values = np.array([rec.get_height() for rec in ax.patches])\n",
    "    norm = plt.Normalize(values.min(), values.max())\n",
    "    colors = plt.cm.jet(norm(values))\n",
    "    for rec, col in zip(ax.patches,colors):\n",
    "        rec.set_color(col)\n",
    "    plt.title(title, size=20, color='black')\n"
   ]
  },
  {
   "cell_type": "code",
   "execution_count": 47,
   "id": "0f8b865b",
   "metadata": {},
   "outputs": [
    {
     "name": "stderr",
     "output_type": "stream",
     "text": [
      "C:\\Users\\UMMER\\anaconda3\\lib\\site-packages\\seaborn\\distributions.py:2619: FutureWarning: `distplot` is a deprecated function and will be removed in a future version. Please adapt your code to use either `displot` (a figure-level function with similar flexibility) or `histplot` (an axes-level function for histograms).\n",
      "  warnings.warn(msg, FutureWarning)\n"
     ]
    },
    {
     "data": {
      "image/png": "[encoded data removed]",
      "text/plain": [
       "<Figure size 720x576 with 1 Axes>"
      ]
     },
     "metadata": {},
     "output_type": "display_data"
    }
   ],
   "source": [
    "disturbition(data.Appearances,\"Disturbition Appearance\")"
   ]
  },
  {
   "cell_type": "markdown",
   "id": "040c8189",
   "metadata": {},
   "source": [
    "Lets Looking for which charachter is still alive and which is death"
   ]
  },
  {
   "cell_type": "code",
   "execution_count": 30,
   "id": "bfdfb58d",
   "metadata": {},
   "outputs": [
    {
     "data": {
      "text/plain": [
       "<AxesSubplot:xlabel='Current?', ylabel='Years since joining'>"
      ]
     },
     "execution_count": 30,
     "metadata": {},
     "output_type": "execute_result"
    },
    {
     "data": {
      "image/png": "[encoded data removed]",
      "text/plain": [
       "<Figure size 1320x660 with 1 Axes>"
      ]
     },
     "metadata": {},
     "output_type": "display_data"
    }
   ],
   "source": [
    "plt.figure(figsize=(12,6),dpi=110)\n",
    "sns.boxplot(y='Years since joining',x='Current?',hue=\"Gender\",data=data)"
   ]
  },
  {
   "cell_type": "code",
   "execution_count": 31,
   "id": "fa54bab3",
   "metadata": {},
   "outputs": [],
   "source": [
    "still_alive = data[data['Notes'].isnull()]\n",
    "death = data[data['Notes'].notnull()]"
   ]
  },
  {
   "cell_type": "code",
   "execution_count": 49,
   "id": "74b5319f",
   "metadata": {},
   "outputs": [
    {
     "data": {
      "text/html": [
       "<div>\n",
       "<style scoped>\n",
       "    .dataframe tbody tr th:only-of-type {\n",
       "        vertical-align: middle;\n",
       "    }\n",
       "\n",
       "    .dataframe tbody tr th {\n",
       "        vertical-align: top;\n",
       "    }\n",
       "\n",
       "    .dataframe thead th {\n",
       "        text-align: right;\n",
       "    }\n",
       "</style>\n",
       "<table border=\"1\" class=\"dataframe\">\n",
       "  <thead>\n",
       "    <tr style=\"text-align: right;\">\n",
       "      <th></th>\n",
       "      <th>Name/Alias</th>\n",
       "      <th>Appearances</th>\n",
       "      <th>Current?</th>\n",
       "      <th>Gender</th>\n",
       "      <th>Full/Reserve Avengers Intro</th>\n",
       "      <th>Year</th>\n",
       "      <th>Years since joining</th>\n",
       "      <th>Honorary</th>\n",
       "      <th>Death1</th>\n",
       "      <th>Return1</th>\n",
       "      <th>Death2</th>\n",
       "      <th>Return2</th>\n",
       "      <th>Death3</th>\n",
       "      <th>Return3</th>\n",
       "      <th>Death4</th>\n",
       "      <th>Return4</th>\n",
       "      <th>Death5</th>\n",
       "      <th>Return5</th>\n",
       "      <th>Notes</th>\n",
       "    </tr>\n",
       "  </thead>\n",
       "  <tbody>\n",
       "    <tr>\n",
       "      <th>0</th>\n",
       "      <td>Henry Jonathan \"Hank\" Pym</td>\n",
       "      <td>1269</td>\n",
       "      <td>YES</td>\n",
       "      <td>MALE</td>\n",
       "      <td>Sep-63</td>\n",
       "      <td>1963</td>\n",
       "      <td>52</td>\n",
       "      <td>Full</td>\n",
       "      <td>YES</td>\n",
       "      <td>NO</td>\n",
       "      <td>Never Happen</td>\n",
       "      <td>Never Happen</td>\n",
       "      <td>Never Happen</td>\n",
       "      <td>Never Happen</td>\n",
       "      <td>Never Happen</td>\n",
       "      <td>Never Happen</td>\n",
       "      <td>Never Happen</td>\n",
       "      <td>Never Happen</td>\n",
       "      <td>Merged with Ultron in Rage of Ultron Vol. 1. A...</td>\n",
       "    </tr>\n",
       "    <tr>\n",
       "      <th>1</th>\n",
       "      <td>Janet van Dyne</td>\n",
       "      <td>1165</td>\n",
       "      <td>YES</td>\n",
       "      <td>FEMALE</td>\n",
       "      <td>Sep-63</td>\n",
       "      <td>1963</td>\n",
       "      <td>52</td>\n",
       "      <td>Full</td>\n",
       "      <td>YES</td>\n",
       "      <td>YES</td>\n",
       "      <td>Never Happen</td>\n",
       "      <td>Never Happen</td>\n",
       "      <td>Never Happen</td>\n",
       "      <td>Never Happen</td>\n",
       "      <td>Never Happen</td>\n",
       "      <td>Never Happen</td>\n",
       "      <td>Never Happen</td>\n",
       "      <td>Never Happen</td>\n",
       "      <td>Dies in Secret Invasion V1:I8. Actually was se...</td>\n",
       "    </tr>\n",
       "    <tr>\n",
       "      <th>2</th>\n",
       "      <td>Anthony Edward \"Tony\" Stark</td>\n",
       "      <td>3068</td>\n",
       "      <td>YES</td>\n",
       "      <td>MALE</td>\n",
       "      <td>Sep-63</td>\n",
       "      <td>1963</td>\n",
       "      <td>52</td>\n",
       "      <td>Full</td>\n",
       "      <td>YES</td>\n",
       "      <td>YES</td>\n",
       "      <td>Never Happen</td>\n",
       "      <td>Never Happen</td>\n",
       "      <td>Never Happen</td>\n",
       "      <td>Never Happen</td>\n",
       "      <td>Never Happen</td>\n",
       "      <td>Never Happen</td>\n",
       "      <td>Never Happen</td>\n",
       "      <td>Never Happen</td>\n",
       "      <td>Death: \"Later while under the influence of Imm...</td>\n",
       "    </tr>\n",
       "    <tr>\n",
       "      <th>3</th>\n",
       "      <td>Robert Bruce Banner</td>\n",
       "      <td>2089</td>\n",
       "      <td>YES</td>\n",
       "      <td>MALE</td>\n",
       "      <td>Sep-63</td>\n",
       "      <td>1963</td>\n",
       "      <td>52</td>\n",
       "      <td>Full</td>\n",
       "      <td>YES</td>\n",
       "      <td>YES</td>\n",
       "      <td>Never Happen</td>\n",
       "      <td>Never Happen</td>\n",
       "      <td>Never Happen</td>\n",
       "      <td>Never Happen</td>\n",
       "      <td>Never Happen</td>\n",
       "      <td>Never Happen</td>\n",
       "      <td>Never Happen</td>\n",
       "      <td>Never Happen</td>\n",
       "      <td>Dies in Ghosts of the Future arc. However \"he ...</td>\n",
       "    </tr>\n",
       "    <tr>\n",
       "      <th>4</th>\n",
       "      <td>Thor Odinson</td>\n",
       "      <td>2402</td>\n",
       "      <td>YES</td>\n",
       "      <td>MALE</td>\n",
       "      <td>Sep-63</td>\n",
       "      <td>1963</td>\n",
       "      <td>52</td>\n",
       "      <td>Full</td>\n",
       "      <td>YES</td>\n",
       "      <td>YES</td>\n",
       "      <td>YES</td>\n",
       "      <td>NO</td>\n",
       "      <td>Never Happen</td>\n",
       "      <td>Never Happen</td>\n",
       "      <td>Never Happen</td>\n",
       "      <td>Never Happen</td>\n",
       "      <td>Never Happen</td>\n",
       "      <td>Never Happen</td>\n",
       "      <td>Dies in Fear Itself brought back because that'...</td>\n",
       "    </tr>\n",
       "  </tbody>\n",
       "</table>\n",
       "</div>"
      ],
      "text/plain": [
       "                    Name/Alias  Appearances Current?  Gender  \\\n",
       "0    Henry Jonathan \"Hank\" Pym         1269      YES    MALE   \n",
       "1               Janet van Dyne         1165      YES  FEMALE   \n",
       "2  Anthony Edward \"Tony\" Stark         3068      YES    MALE   \n",
       "3          Robert Bruce Banner         2089      YES    MALE   \n",
       "4                 Thor Odinson         2402      YES    MALE   \n",
       "\n",
       "  Full/Reserve Avengers Intro  Year  Years since joining Honorary Death1  \\\n",
       "0                      Sep-63  1963                   52     Full    YES   \n",
       "1                      Sep-63  1963                   52     Full    YES   \n",
       "2                      Sep-63  1963                   52     Full    YES   \n",
       "3                      Sep-63  1963                   52     Full    YES   \n",
       "4                      Sep-63  1963                   52     Full    YES   \n",
       "\n",
       "  Return1        Death2       Return2        Death3       Return3  \\\n",
       "0      NO  Never Happen  Never Happen  Never Happen  Never Happen   \n",
       "1     YES  Never Happen  Never Happen  Never Happen  Never Happen   \n",
       "2     YES  Never Happen  Never Happen  Never Happen  Never Happen   \n",
       "3     YES  Never Happen  Never Happen  Never Happen  Never Happen   \n",
       "4     YES           YES            NO  Never Happen  Never Happen   \n",
       "\n",
       "         Death4       Return4        Death5       Return5  \\\n",
       "0  Never Happen  Never Happen  Never Happen  Never Happen   \n",
       "1  Never Happen  Never Happen  Never Happen  Never Happen   \n",
       "2  Never Happen  Never Happen  Never Happen  Never Happen   \n",
       "3  Never Happen  Never Happen  Never Happen  Never Happen   \n",
       "4  Never Happen  Never Happen  Never Happen  Never Happen   \n",
       "\n",
       "                                               Notes  \n",
       "0  Merged with Ultron in Rage of Ultron Vol. 1. A...  \n",
       "1  Dies in Secret Invasion V1:I8. Actually was se...  \n",
       "2  Death: \"Later while under the influence of Imm...  \n",
       "3  Dies in Ghosts of the Future arc. However \"he ...  \n",
       "4  Dies in Fear Itself brought back because that'...  "
      ]
     },
     "execution_count": 49,
     "metadata": {},
     "output_type": "execute_result"
    }
   ],
   "source": [
    "death.head()"
   ]
  },
  {
   "cell_type": "code",
   "execution_count": 32,
   "id": "45e3943a",
   "metadata": {},
   "outputs": [
    {
     "data": {
      "text/plain": [
       "<AxesSubplot:xlabel='Gender', ylabel='count'>"
      ]
     },
     "execution_count": 32,
     "metadata": {},
     "output_type": "execute_result"
    },
    {
     "data": {
      "image/png": "[encoded data removed]",
      "text/plain": [
       "<Figure size 720x504 with 1 Axes>"
      ]
     },
     "metadata": {},
     "output_type": "display_data"
    }
   ],
   "source": [
    "sns.set(rc={'figure.figsize':(10,7)})\n",
    "sns.countplot(data = death, x=\"Gender\",palette='coolwarm')"
   ]
  },
  {
   "cell_type": "code",
   "execution_count": 33,
   "id": "3f0bb589",
   "metadata": {},
   "outputs": [
    {
     "data": {
      "text/html": [
       "<div>\n",
       "<style scoped>\n",
       "    .dataframe tbody tr th:only-of-type {\n",
       "        vertical-align: middle;\n",
       "    }\n",
       "\n",
       "    .dataframe tbody tr th {\n",
       "        vertical-align: top;\n",
       "    }\n",
       "\n",
       "    .dataframe thead th {\n",
       "        text-align: right;\n",
       "    }\n",
       "</style>\n",
       "<table border=\"1\" class=\"dataframe\">\n",
       "  <thead>\n",
       "    <tr style=\"text-align: right;\">\n",
       "      <th></th>\n",
       "      <th>URL</th>\n",
       "      <th>Name/Alias</th>\n",
       "      <th>Appearances</th>\n",
       "      <th>Current?</th>\n",
       "      <th>Gender</th>\n",
       "      <th>Full/Reserve Avengers Intro</th>\n",
       "      <th>Year</th>\n",
       "      <th>Years since joining</th>\n",
       "      <th>Honorary</th>\n",
       "      <th>Death1</th>\n",
       "      <th>Return1</th>\n",
       "      <th>Death2</th>\n",
       "      <th>Return2</th>\n",
       "      <th>Death3</th>\n",
       "      <th>Return3</th>\n",
       "      <th>Death4</th>\n",
       "      <th>Return4</th>\n",
       "      <th>Death5</th>\n",
       "      <th>Return5</th>\n",
       "      <th>Notes</th>\n",
       "    </tr>\n",
       "  </thead>\n",
       "  <tbody>\n",
       "    <tr>\n",
       "      <th>5</th>\n",
       "      <td>http://marvel.wikia.com/Richard_Jones_(Earth-616)</td>\n",
       "      <td>Richard Milhouse Jones</td>\n",
       "      <td>612</td>\n",
       "      <td>YES</td>\n",
       "      <td>MALE</td>\n",
       "      <td>Sep-63</td>\n",
       "      <td>1963</td>\n",
       "      <td>52</td>\n",
       "      <td>Honorary</td>\n",
       "      <td>NO</td>\n",
       "      <td>Never Happen</td>\n",
       "      <td>Never Happen</td>\n",
       "      <td>Never Happen</td>\n",
       "      <td>Never Happen</td>\n",
       "      <td>Never Happen</td>\n",
       "      <td>Never Happen</td>\n",
       "      <td>Never Happen</td>\n",
       "      <td>Never Happen</td>\n",
       "      <td>Never Happen</td>\n",
       "      <td>NaN</td>\n",
       "    </tr>\n",
       "    <tr>\n",
       "      <th>11</th>\n",
       "      <td>http://marvel.wikia.com/Hercules_(Earth-616)</td>\n",
       "      <td>Heracles</td>\n",
       "      <td>741</td>\n",
       "      <td>YES</td>\n",
       "      <td>MALE</td>\n",
       "      <td>Oct-67</td>\n",
       "      <td>1967</td>\n",
       "      <td>48</td>\n",
       "      <td>Full</td>\n",
       "      <td>NO</td>\n",
       "      <td>Never Happen</td>\n",
       "      <td>Never Happen</td>\n",
       "      <td>Never Happen</td>\n",
       "      <td>Never Happen</td>\n",
       "      <td>Never Happen</td>\n",
       "      <td>Never Happen</td>\n",
       "      <td>Never Happen</td>\n",
       "      <td>Never Happen</td>\n",
       "      <td>Never Happen</td>\n",
       "      <td>NaN</td>\n",
       "    </tr>\n",
       "    <tr>\n",
       "      <th>12</th>\n",
       "      <td>http://marvel.wikia.com/T%27Challa_(Earth-616)</td>\n",
       "      <td>T'Challa</td>\n",
       "      <td>780</td>\n",
       "      <td>NO</td>\n",
       "      <td>MALE</td>\n",
       "      <td>May-68</td>\n",
       "      <td>1968</td>\n",
       "      <td>47</td>\n",
       "      <td>Full</td>\n",
       "      <td>NO</td>\n",
       "      <td>Never Happen</td>\n",
       "      <td>Never Happen</td>\n",
       "      <td>Never Happen</td>\n",
       "      <td>Never Happen</td>\n",
       "      <td>Never Happen</td>\n",
       "      <td>Never Happen</td>\n",
       "      <td>Never Happen</td>\n",
       "      <td>Never Happen</td>\n",
       "      <td>Never Happen</td>\n",
       "      <td>NaN</td>\n",
       "    </tr>\n",
       "    <tr>\n",
       "      <th>14</th>\n",
       "      <td>http://marvel.wikia.com/Dane_Whitman</td>\n",
       "      <td>Dane Whitman</td>\n",
       "      <td>482</td>\n",
       "      <td>NO</td>\n",
       "      <td>MALE</td>\n",
       "      <td>Dec-69</td>\n",
       "      <td>1969</td>\n",
       "      <td>46</td>\n",
       "      <td>Full</td>\n",
       "      <td>NO</td>\n",
       "      <td>Never Happen</td>\n",
       "      <td>Never Happen</td>\n",
       "      <td>Never Happen</td>\n",
       "      <td>Never Happen</td>\n",
       "      <td>Never Happen</td>\n",
       "      <td>Never Happen</td>\n",
       "      <td>Never Happen</td>\n",
       "      <td>Never Happen</td>\n",
       "      <td>Never Happen</td>\n",
       "      <td>NaN</td>\n",
       "    </tr>\n",
       "    <tr>\n",
       "      <th>17</th>\n",
       "      <td>http://marvel.wikia.com/Henry_McCoy_(Earth-616)#</td>\n",
       "      <td>Henry P. McCoy</td>\n",
       "      <td>1886</td>\n",
       "      <td>NO</td>\n",
       "      <td>MALE</td>\n",
       "      <td>Sep-76</td>\n",
       "      <td>1976</td>\n",
       "      <td>39</td>\n",
       "      <td>Full</td>\n",
       "      <td>NO</td>\n",
       "      <td>Never Happen</td>\n",
       "      <td>Never Happen</td>\n",
       "      <td>Never Happen</td>\n",
       "      <td>Never Happen</td>\n",
       "      <td>Never Happen</td>\n",
       "      <td>Never Happen</td>\n",
       "      <td>Never Happen</td>\n",
       "      <td>Never Happen</td>\n",
       "      <td>Never Happen</td>\n",
       "      <td>NaN</td>\n",
       "    </tr>\n",
       "  </tbody>\n",
       "</table>\n",
       "</div>"
      ],
      "text/plain": [
       "                                                  URL              Name/Alias  \\\n",
       "5   http://marvel.wikia.com/Richard_Jones_(Earth-616)  Richard Milhouse Jones   \n",
       "11       http://marvel.wikia.com/Hercules_(Earth-616)                Heracles   \n",
       "12     http://marvel.wikia.com/T%27Challa_(Earth-616)                T'Challa   \n",
       "14               http://marvel.wikia.com/Dane_Whitman            Dane Whitman   \n",
       "17   http://marvel.wikia.com/Henry_McCoy_(Earth-616)#          Henry P. McCoy   \n",
       "\n",
       "    Appearances Current? Gender Full/Reserve Avengers Intro  Year  \\\n",
       "5           612      YES   MALE                      Sep-63  1963   \n",
       "11          741      YES   MALE                      Oct-67  1967   \n",
       "12          780       NO   MALE                      May-68  1968   \n",
       "14          482       NO   MALE                      Dec-69  1969   \n",
       "17         1886       NO   MALE                      Sep-76  1976   \n",
       "\n",
       "    Years since joining  Honorary Death1       Return1        Death2  \\\n",
       "5                    52  Honorary     NO  Never Happen  Never Happen   \n",
       "11                   48      Full     NO  Never Happen  Never Happen   \n",
       "12                   47      Full     NO  Never Happen  Never Happen   \n",
       "14                   46      Full     NO  Never Happen  Never Happen   \n",
       "17                   39      Full     NO  Never Happen  Never Happen   \n",
       "\n",
       "         Return2        Death3       Return3        Death4       Return4  \\\n",
       "5   Never Happen  Never Happen  Never Happen  Never Happen  Never Happen   \n",
       "11  Never Happen  Never Happen  Never Happen  Never Happen  Never Happen   \n",
       "12  Never Happen  Never Happen  Never Happen  Never Happen  Never Happen   \n",
       "14  Never Happen  Never Happen  Never Happen  Never Happen  Never Happen   \n",
       "17  Never Happen  Never Happen  Never Happen  Never Happen  Never Happen   \n",
       "\n",
       "          Death5       Return5 Notes  \n",
       "5   Never Happen  Never Happen   NaN  \n",
       "11  Never Happen  Never Happen   NaN  \n",
       "12  Never Happen  Never Happen   NaN  \n",
       "14  Never Happen  Never Happen   NaN  \n",
       "17  Never Happen  Never Happen   NaN  "
      ]
     },
     "execution_count": 33,
     "metadata": {},
     "output_type": "execute_result"
    }
   ],
   "source": [
    "still_alive.head()"
   ]
  },
  {
   "cell_type": "code",
   "execution_count": 34,
   "id": "7ef8dfdc",
   "metadata": {},
   "outputs": [
    {
     "data": {
      "text/plain": [
       "<AxesSubplot:xlabel='Gender', ylabel='count'>"
      ]
     },
     "execution_count": 34,
     "metadata": {},
     "output_type": "execute_result"
    },
    {
     "data": {
      "image/png": "[encoded data removed]",
      "text/plain": [
       "<Figure size 720x504 with 1 Axes>"
      ]
     },
     "metadata": {},
     "output_type": "display_data"
    }
   ],
   "source": [
    "sns.set(rc={'figure.figsize':(10,7)})\n",
    "sns.countplot(data = still_alive, x=\"Gender\",palette='Paired')"
   ]
  },
  {
   "cell_type": "markdown",
   "id": "5f856d59",
   "metadata": {},
   "source": [
    "##### WordCLoud"
   ]
  },
  {
   "cell_type": "code",
   "execution_count": 35,
   "id": "9f8488ef",
   "metadata": {},
   "outputs": [],
   "source": [
    "def transform_format(val):\n",
    "    if val == 0:\n",
    "        return 255\n",
    "    else:\n",
    "        return val"
   ]
  },
  {
   "cell_type": "code",
   "execution_count": 40,
   "id": "44883e7b",
   "metadata": {},
   "outputs": [],
   "source": [
    "mask = np.array(Image.open(r'C:\\Users\\UMMER\\Downloads\\png-clipart-avengers-age-of-ultron-logo-avengers-logo-thumbnail.png'))\n",
    "transformed = np.ndarray((mask.shape[0],mask.shape[1]), np.int32)\n",
    "\n",
    "for i in range(len(mask)):\n",
    "    transformed[i] = list(map(transform_format,mask[i]))"
   ]
  },
  {
   "cell_type": "code",
   "execution_count": 43,
   "id": "5823e0ad",
   "metadata": {},
   "outputs": [
    {
     "name": "stderr",
     "output_type": "stream",
     "text": [
      "[nltk_data] Downloading package stopwords to\n",
      "[nltk_data]     C:\\Users\\UMMER\\AppData\\Roaming\\nltk_data...\n",
      "[nltk_data]   Unzipping corpora\\stopwords.zip.\n"
     ]
    },
    {
     "data": {
      "text/plain": [
       "True"
      ]
     },
     "execution_count": 43,
     "metadata": {},
     "output_type": "execute_result"
    }
   ],
   "source": [
    "import nltk\n",
    "nltk.download('stopwords')"
   ]
  },
  {
   "cell_type": "code",
   "execution_count": 44,
   "id": "eec4f5ac",
   "metadata": {},
   "outputs": [
    {
     "data": {
      "image/png": "[encoded data removed]",
      "text/plain": [
       "<PIL.Image.Image image mode=RGB size=348x397 at 0x1FD4A6378E0>"
      ]
     },
     "execution_count": 44,
     "metadata": {},
     "output_type": "execute_result"
    }
   ],
   "source": [
    "cloud_data = ' '.join([line for line in death.Notes])\n",
    "stopword = nltk.corpus.stopwords.words('english')\n",
    "\n",
    "# plot the WordCloud image                       \n",
    "wc = WordCloud(background_color='white', max_words=2000, mask=transformed,colormap='Set1')\n",
    "wc.generate(cloud_data)\n",
    "wc.to_file('word_cloud.png')\n",
    "wc.to_image()"
   ]
  },
  {
   "cell_type": "code",
   "execution_count": 45,
   "id": "f0d9ed4f",
   "metadata": {},
   "outputs": [
    {
     "data": {
      "image/png": "[encoded data removed]",
      "text/plain": [
       "<PIL.Image.Image image mode=RGB size=348x397 at 0x1FD48DF35E0>"
      ]
     },
     "execution_count": 45,
     "metadata": {},
     "output_type": "execute_result"
    }
   ],
   "source": [
    "names = data.dropna()\n",
    "cloud_data = ' '.join([line for line in names['Name/Alias']])\n",
    "stopword = nltk.corpus.stopwords.words('english')\n",
    "\n",
    "# plot the WordCloud image                       \n",
    "wc = WordCloud(background_color='white', max_words=2000, mask=transformed,colormap='twilight_shifted_r')\n",
    "wc.generate(cloud_data)\n",
    "wc.to_file('word_cloud_ironman.png')\n",
    "wc.to_image()"
   ]
  },
  {
   "cell_type": "code",
   "execution_count": 46,
   "id": "0e1e7a6e",
   "metadata": {},
   "outputs": [
    {
     "data": {
      "image/png": "[encoded data removed]",
      "text/plain": [
       "<PIL.Image.Image image mode=RGB size=348x397 at 0x1FD48C99940>"
      ]
     },
     "execution_count": 46,
     "metadata": {},
     "output_type": "execute_result"
    }
   ],
   "source": [
    "names = data.dropna()\n",
    "cloud_data = ' '.join([line for line in names['Name/Alias']])\n",
    "stopword = nltk.corpus.stopwords.words('english')\n",
    "\n",
    "# plot the WordCloud image                       \n",
    "wc = WordCloud(background_color='white', max_words=2000, mask=transformed,colormap='twilight_shifted_r')\n",
    "wc.generate(cloud_data)\n",
    "wc.to_file('word_cloud_ironman.png')\n",
    "wc.to_image()"
   ]
  },
  {
   "cell_type": "code",
   "execution_count": null,
   "id": "2a5c64a3",
   "metadata": {},
   "outputs": [],
   "source": []
  },
  {
   "cell_type": "code",
   "execution_count": null,
   "id": "90e10566",
   "metadata": {},
   "outputs": [],
   "source": []
  },
  {
   "cell_type": "code",
   "execution_count": null,
   "id": "305f3328",
   "metadata": {},
   "outputs": [],
   "source": []
  }
 ],
 "metadata": {
  "kernelspec": {
   "display_name": "Python 3 (ipykernel)",
   "language": "python",
   "name": "python3"
  },
  "language_info": {
   "codemirror_mode": {
    "name": "ipython",
    "version": 3
   },
   "file_extension": ".py",
   "mimetype": "text/x-python",
   "name": "python",
   "nbconvert_exporter": "python",
   "pygments_lexer": "ipython3",
   "version": "3.9.12"
  }
 },
 "nbformat": 4,
 "nbformat_minor": 5
}

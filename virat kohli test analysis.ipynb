{
 "cells": [
  {
   "cell_type": "markdown",
   "id": "e10d21c8",
   "metadata": {},
   "source": [
    "# Virat kohli test analysis"
   ]
  },
  {
   "cell_type": "code",
   "execution_count": 1,
   "id": "d78bf290",
   "metadata": {},
   "outputs": [],
   "source": [
    "import pandas as pd\n",
    "import numpy as np\n",
    "import matplotlib.pyplot as plt\n",
    "import seaborn as sns"
   ]
  },
  {
   "cell_type": "code",
   "execution_count": 2,
   "id": "4cfce6cb",
   "metadata": {},
   "outputs": [],
   "source": [
    "virat_test=pd.read_csv('kohli-centuries-test.csv')"
   ]
  },
  {
   "cell_type": "code",
   "execution_count": 3,
   "id": "d0386cfb",
   "metadata": {
    "scrolled": true
   },
   "outputs": [
    {
     "data": {
      "text/html": [
       "<div>\n",
       "<style scoped>\n",
       "    .dataframe tbody tr th:only-of-type {\n",
       "        vertical-align: middle;\n",
       "    }\n",
       "\n",
       "    .dataframe tbody tr th {\n",
       "        vertical-align: top;\n",
       "    }\n",
       "\n",
       "    .dataframe thead th {\n",
       "        text-align: right;\n",
       "    }\n",
       "</style>\n",
       "<table border=\"1\" class=\"dataframe\">\n",
       "  <thead>\n",
       "    <tr style=\"text-align: right;\">\n",
       "      <th></th>\n",
       "      <th>Bat1</th>\n",
       "      <th>Bat2</th>\n",
       "      <th>Runs</th>\n",
       "      <th>Wkts</th>\n",
       "      <th>Conc</th>\n",
       "      <th>Ct</th>\n",
       "      <th>St</th>\n",
       "      <th>Unnamed: 7</th>\n",
       "      <th>Opposition</th>\n",
       "      <th>Ground</th>\n",
       "      <th>Start Date</th>\n",
       "    </tr>\n",
       "  </thead>\n",
       "  <tbody>\n",
       "    <tr>\n",
       "      <th>0</th>\n",
       "      <td>4</td>\n",
       "      <td>15</td>\n",
       "      <td>19</td>\n",
       "      <td>-</td>\n",
       "      <td>-</td>\n",
       "      <td>2</td>\n",
       "      <td>0</td>\n",
       "      <td>NaN</td>\n",
       "      <td>v West Indies</td>\n",
       "      <td>Kingston</td>\n",
       "      <td>20-Jun-11</td>\n",
       "    </tr>\n",
       "    <tr>\n",
       "      <th>1</th>\n",
       "      <td>0</td>\n",
       "      <td>27</td>\n",
       "      <td>27</td>\n",
       "      <td>-</td>\n",
       "      <td>-</td>\n",
       "      <td>2</td>\n",
       "      <td>0</td>\n",
       "      <td>NaN</td>\n",
       "      <td>v West Indies</td>\n",
       "      <td>Bridgetown</td>\n",
       "      <td>28-Jun-11</td>\n",
       "    </tr>\n",
       "    <tr>\n",
       "      <th>2</th>\n",
       "      <td>30</td>\n",
       "      <td>DNB</td>\n",
       "      <td>30</td>\n",
       "      <td>-</td>\n",
       "      <td>-</td>\n",
       "      <td>1</td>\n",
       "      <td>0</td>\n",
       "      <td>NaN</td>\n",
       "      <td>v West Indies</td>\n",
       "      <td>Roseau</td>\n",
       "      <td>6-Jul-11</td>\n",
       "    </tr>\n",
       "    <tr>\n",
       "      <th>3</th>\n",
       "      <td>52</td>\n",
       "      <td>63</td>\n",
       "      <td>115</td>\n",
       "      <td>0</td>\n",
       "      <td>9</td>\n",
       "      <td>2</td>\n",
       "      <td>0</td>\n",
       "      <td>NaN</td>\n",
       "      <td>v West Indies</td>\n",
       "      <td>Mumbai</td>\n",
       "      <td>22-Nov-11</td>\n",
       "    </tr>\n",
       "    <tr>\n",
       "      <th>4</th>\n",
       "      <td>11</td>\n",
       "      <td>0</td>\n",
       "      <td>11</td>\n",
       "      <td>-</td>\n",
       "      <td>-</td>\n",
       "      <td>2</td>\n",
       "      <td>0</td>\n",
       "      <td>NaN</td>\n",
       "      <td>v Australia</td>\n",
       "      <td>Melbourne</td>\n",
       "      <td>26-Dec-11</td>\n",
       "    </tr>\n",
       "  </tbody>\n",
       "</table>\n",
       "</div>"
      ],
      "text/plain": [
       "  Bat1 Bat2 Runs Wkts Conc  Ct  St  Unnamed: 7     Opposition      Ground  \\\n",
       "0    4   15   19    -    -   2   0         NaN  v West Indies    Kingston   \n",
       "1    0   27   27    -    -   2   0         NaN  v West Indies  Bridgetown   \n",
       "2   30  DNB   30    -    -   1   0         NaN  v West Indies      Roseau   \n",
       "3   52   63  115    0    9   2   0         NaN  v West Indies      Mumbai   \n",
       "4   11    0   11    -    -   2   0         NaN    v Australia   Melbourne   \n",
       "\n",
       "  Start Date  \n",
       "0  20-Jun-11  \n",
       "1  28-Jun-11  \n",
       "2   6-Jul-11  \n",
       "3  22-Nov-11  \n",
       "4  26-Dec-11  "
      ]
     },
     "execution_count": 3,
     "metadata": {},
     "output_type": "execute_result"
    }
   ],
   "source": [
    "virat_test.head()"
   ]
  },
  {
   "cell_type": "markdown",
   "id": "13e05ddb",
   "metadata": {},
   "source": [
    "## data preprocessing"
   ]
  },
  {
   "cell_type": "code",
   "execution_count": 5,
   "id": "7a115dff",
   "metadata": {},
   "outputs": [],
   "source": [
    "virat_test=virat_test.drop(['Unnamed: 7'],axis=1)"
   ]
  },
  {
   "cell_type": "code",
   "execution_count": 6,
   "id": "855e9610",
   "metadata": {},
   "outputs": [
    {
     "data": {
      "text/html": [
       "<div>\n",
       "<style scoped>\n",
       "    .dataframe tbody tr th:only-of-type {\n",
       "        vertical-align: middle;\n",
       "    }\n",
       "\n",
       "    .dataframe tbody tr th {\n",
       "        vertical-align: top;\n",
       "    }\n",
       "\n",
       "    .dataframe thead th {\n",
       "        text-align: right;\n",
       "    }\n",
       "</style>\n",
       "<table border=\"1\" class=\"dataframe\">\n",
       "  <thead>\n",
       "    <tr style=\"text-align: right;\">\n",
       "      <th></th>\n",
       "      <th>Bat1</th>\n",
       "      <th>Bat2</th>\n",
       "      <th>Runs</th>\n",
       "      <th>Wkts</th>\n",
       "      <th>Conc</th>\n",
       "      <th>Ct</th>\n",
       "      <th>St</th>\n",
       "      <th>Opposition</th>\n",
       "      <th>Ground</th>\n",
       "      <th>Start Date</th>\n",
       "    </tr>\n",
       "  </thead>\n",
       "  <tbody>\n",
       "    <tr>\n",
       "      <th>0</th>\n",
       "      <td>4</td>\n",
       "      <td>15</td>\n",
       "      <td>19</td>\n",
       "      <td>-</td>\n",
       "      <td>-</td>\n",
       "      <td>2</td>\n",
       "      <td>0</td>\n",
       "      <td>v West Indies</td>\n",
       "      <td>Kingston</td>\n",
       "      <td>20-Jun-11</td>\n",
       "    </tr>\n",
       "    <tr>\n",
       "      <th>1</th>\n",
       "      <td>0</td>\n",
       "      <td>27</td>\n",
       "      <td>27</td>\n",
       "      <td>-</td>\n",
       "      <td>-</td>\n",
       "      <td>2</td>\n",
       "      <td>0</td>\n",
       "      <td>v West Indies</td>\n",
       "      <td>Bridgetown</td>\n",
       "      <td>28-Jun-11</td>\n",
       "    </tr>\n",
       "    <tr>\n",
       "      <th>2</th>\n",
       "      <td>30</td>\n",
       "      <td>DNB</td>\n",
       "      <td>30</td>\n",
       "      <td>-</td>\n",
       "      <td>-</td>\n",
       "      <td>1</td>\n",
       "      <td>0</td>\n",
       "      <td>v West Indies</td>\n",
       "      <td>Roseau</td>\n",
       "      <td>6-Jul-11</td>\n",
       "    </tr>\n",
       "    <tr>\n",
       "      <th>3</th>\n",
       "      <td>52</td>\n",
       "      <td>63</td>\n",
       "      <td>115</td>\n",
       "      <td>0</td>\n",
       "      <td>9</td>\n",
       "      <td>2</td>\n",
       "      <td>0</td>\n",
       "      <td>v West Indies</td>\n",
       "      <td>Mumbai</td>\n",
       "      <td>22-Nov-11</td>\n",
       "    </tr>\n",
       "    <tr>\n",
       "      <th>4</th>\n",
       "      <td>11</td>\n",
       "      <td>0</td>\n",
       "      <td>11</td>\n",
       "      <td>-</td>\n",
       "      <td>-</td>\n",
       "      <td>2</td>\n",
       "      <td>0</td>\n",
       "      <td>v Australia</td>\n",
       "      <td>Melbourne</td>\n",
       "      <td>26-Dec-11</td>\n",
       "    </tr>\n",
       "  </tbody>\n",
       "</table>\n",
       "</div>"
      ],
      "text/plain": [
       "  Bat1 Bat2 Runs Wkts Conc  Ct  St     Opposition      Ground Start Date\n",
       "0    4   15   19    -    -   2   0  v West Indies    Kingston  20-Jun-11\n",
       "1    0   27   27    -    -   2   0  v West Indies  Bridgetown  28-Jun-11\n",
       "2   30  DNB   30    -    -   1   0  v West Indies      Roseau   6-Jul-11\n",
       "3   52   63  115    0    9   2   0  v West Indies      Mumbai  22-Nov-11\n",
       "4   11    0   11    -    -   2   0    v Australia   Melbourne  26-Dec-11"
      ]
     },
     "execution_count": 6,
     "metadata": {},
     "output_type": "execute_result"
    }
   ],
   "source": [
    "virat_test.head()"
   ]
  },
  {
   "cell_type": "code",
   "execution_count": 7,
   "id": "32939a51",
   "metadata": {},
   "outputs": [
    {
     "data": {
      "text/plain": [
       "(69, 10)"
      ]
     },
     "execution_count": 7,
     "metadata": {},
     "output_type": "execute_result"
    }
   ],
   "source": [
    "virat_test.shape"
   ]
  },
  {
   "cell_type": "code",
   "execution_count": 8,
   "id": "1d624fce",
   "metadata": {},
   "outputs": [
    {
     "name": "stdout",
     "output_type": "stream",
     "text": [
      "<class 'pandas.core.frame.DataFrame'>\n",
      "RangeIndex: 69 entries, 0 to 68\n",
      "Data columns (total 10 columns):\n",
      " #   Column      Non-Null Count  Dtype \n",
      "---  ------      --------------  ----- \n",
      " 0   Bat1        69 non-null     object\n",
      " 1   Bat2        69 non-null     object\n",
      " 2   Runs        69 non-null     object\n",
      " 3   Wkts        69 non-null     object\n",
      " 4   Conc        69 non-null     object\n",
      " 5   Ct          69 non-null     int64 \n",
      " 6   St          69 non-null     int64 \n",
      " 7   Opposition  69 non-null     object\n",
      " 8   Ground      69 non-null     object\n",
      " 9   Start Date  69 non-null     object\n",
      "dtypes: int64(2), object(8)\n",
      "memory usage: 5.5+ KB\n"
     ]
    }
   ],
   "source": [
    "virat_test.info()"
   ]
  },
  {
   "cell_type": "code",
   "execution_count": 9,
   "id": "3e2e3696",
   "metadata": {},
   "outputs": [
    {
     "data": {
      "text/plain": [
       "Bat1          0\n",
       "Bat2          0\n",
       "Runs          0\n",
       "Wkts          0\n",
       "Conc          0\n",
       "Ct            0\n",
       "St            0\n",
       "Opposition    0\n",
       "Ground        0\n",
       "Start Date    0\n",
       "dtype: int64"
      ]
     },
     "execution_count": 9,
     "metadata": {},
     "output_type": "execute_result"
    }
   ],
   "source": [
    "virat_test.isnull().sum()"
   ]
  },
  {
   "cell_type": "code",
   "execution_count": 10,
   "id": "4a97e2db",
   "metadata": {},
   "outputs": [
    {
     "data": {
      "text/plain": [
       "Index(['Bat1', 'Bat2', 'Runs', 'Wkts', 'Conc', 'Ct', 'St', 'Opposition',\n",
       "       'Ground', 'Start Date'],\n",
       "      dtype='object')"
      ]
     },
     "execution_count": 10,
     "metadata": {},
     "output_type": "execute_result"
    }
   ],
   "source": [
    "virat_test.columns"
   ]
  },
  {
   "cell_type": "code",
   "execution_count": 11,
   "id": "68998c99",
   "metadata": {},
   "outputs": [],
   "source": [
    "virat_test['Year']=pd.DatetimeIndex(virat_test['Start Date']).year"
   ]
  },
  {
   "cell_type": "code",
   "execution_count": 17,
   "id": "0d2defbf",
   "metadata": {},
   "outputs": [
    {
     "data": {
      "text/html": [
       "<div>\n",
       "<style scoped>\n",
       "    .dataframe tbody tr th:only-of-type {\n",
       "        vertical-align: middle;\n",
       "    }\n",
       "\n",
       "    .dataframe tbody tr th {\n",
       "        vertical-align: top;\n",
       "    }\n",
       "\n",
       "    .dataframe thead th {\n",
       "        text-align: right;\n",
       "    }\n",
       "</style>\n",
       "<table border=\"1\" class=\"dataframe\">\n",
       "  <thead>\n",
       "    <tr style=\"text-align: right;\">\n",
       "      <th></th>\n",
       "      <th>Bat1</th>\n",
       "      <th>Bat2</th>\n",
       "      <th>Runs</th>\n",
       "      <th>Wkts</th>\n",
       "      <th>Conc</th>\n",
       "      <th>Ct</th>\n",
       "      <th>St</th>\n",
       "      <th>Opposition</th>\n",
       "      <th>Ground</th>\n",
       "      <th>Start Date</th>\n",
       "      <th>Year</th>\n",
       "    </tr>\n",
       "  </thead>\n",
       "  <tbody>\n",
       "    <tr>\n",
       "      <th>0</th>\n",
       "      <td>4</td>\n",
       "      <td>15</td>\n",
       "      <td>19</td>\n",
       "      <td>-</td>\n",
       "      <td>-</td>\n",
       "      <td>2</td>\n",
       "      <td>0</td>\n",
       "      <td>v West Indies</td>\n",
       "      <td>Kingston</td>\n",
       "      <td>20-Jun-11</td>\n",
       "      <td>2011</td>\n",
       "    </tr>\n",
       "    <tr>\n",
       "      <th>1</th>\n",
       "      <td>0</td>\n",
       "      <td>27</td>\n",
       "      <td>27</td>\n",
       "      <td>-</td>\n",
       "      <td>-</td>\n",
       "      <td>2</td>\n",
       "      <td>0</td>\n",
       "      <td>v West Indies</td>\n",
       "      <td>Bridgetown</td>\n",
       "      <td>28-Jun-11</td>\n",
       "      <td>2011</td>\n",
       "    </tr>\n",
       "    <tr>\n",
       "      <th>2</th>\n",
       "      <td>30</td>\n",
       "      <td>DNB</td>\n",
       "      <td>30</td>\n",
       "      <td>-</td>\n",
       "      <td>-</td>\n",
       "      <td>1</td>\n",
       "      <td>0</td>\n",
       "      <td>v West Indies</td>\n",
       "      <td>Roseau</td>\n",
       "      <td>6-Jul-11</td>\n",
       "      <td>2011</td>\n",
       "    </tr>\n",
       "    <tr>\n",
       "      <th>3</th>\n",
       "      <td>52</td>\n",
       "      <td>63</td>\n",
       "      <td>115</td>\n",
       "      <td>0</td>\n",
       "      <td>9</td>\n",
       "      <td>2</td>\n",
       "      <td>0</td>\n",
       "      <td>v West Indies</td>\n",
       "      <td>Mumbai</td>\n",
       "      <td>22-Nov-11</td>\n",
       "      <td>2011</td>\n",
       "    </tr>\n",
       "    <tr>\n",
       "      <th>4</th>\n",
       "      <td>11</td>\n",
       "      <td>0</td>\n",
       "      <td>11</td>\n",
       "      <td>-</td>\n",
       "      <td>-</td>\n",
       "      <td>2</td>\n",
       "      <td>0</td>\n",
       "      <td>v Australia</td>\n",
       "      <td>Melbourne</td>\n",
       "      <td>26-Dec-11</td>\n",
       "      <td>2011</td>\n",
       "    </tr>\n",
       "  </tbody>\n",
       "</table>\n",
       "</div>"
      ],
      "text/plain": [
       "  Bat1 Bat2 Runs Wkts Conc  Ct  St     Opposition      Ground Start Date  Year\n",
       "0    4   15   19    -    -   2   0  v West Indies    Kingston  20-Jun-11  2011\n",
       "1    0   27   27    -    -   2   0  v West Indies  Bridgetown  28-Jun-11  2011\n",
       "2   30  DNB   30    -    -   1   0  v West Indies      Roseau   6-Jul-11  2011\n",
       "3   52   63  115    0    9   2   0  v West Indies      Mumbai  22-Nov-11  2011\n",
       "4   11    0   11    -    -   2   0    v Australia   Melbourne  26-Dec-11  2011"
      ]
     },
     "execution_count": 17,
     "metadata": {},
     "output_type": "execute_result"
    }
   ],
   "source": [
    "virat_test.head()"
   ]
  },
  {
   "cell_type": "code",
   "execution_count": 21,
   "id": "0d0cbc77",
   "metadata": {},
   "outputs": [],
   "source": [
    "virat_test['Opposition']=virat_test['Opposition'].str.replace('v ',\"\")\n"
   ]
  },
  {
   "cell_type": "code",
   "execution_count": 22,
   "id": "8d6a4ac6",
   "metadata": {},
   "outputs": [
    {
     "data": {
      "text/html": [
       "<div>\n",
       "<style scoped>\n",
       "    .dataframe tbody tr th:only-of-type {\n",
       "        vertical-align: middle;\n",
       "    }\n",
       "\n",
       "    .dataframe tbody tr th {\n",
       "        vertical-align: top;\n",
       "    }\n",
       "\n",
       "    .dataframe thead th {\n",
       "        text-align: right;\n",
       "    }\n",
       "</style>\n",
       "<table border=\"1\" class=\"dataframe\">\n",
       "  <thead>\n",
       "    <tr style=\"text-align: right;\">\n",
       "      <th></th>\n",
       "      <th>Bat1</th>\n",
       "      <th>Bat2</th>\n",
       "      <th>Runs</th>\n",
       "      <th>Wkts</th>\n",
       "      <th>Conc</th>\n",
       "      <th>Ct</th>\n",
       "      <th>St</th>\n",
       "      <th>Opposition</th>\n",
       "      <th>Ground</th>\n",
       "      <th>Start Date</th>\n",
       "      <th>Year</th>\n",
       "    </tr>\n",
       "  </thead>\n",
       "  <tbody>\n",
       "    <tr>\n",
       "      <th>0</th>\n",
       "      <td>4</td>\n",
       "      <td>15</td>\n",
       "      <td>19</td>\n",
       "      <td>-</td>\n",
       "      <td>-</td>\n",
       "      <td>2</td>\n",
       "      <td>0</td>\n",
       "      <td>West Indies</td>\n",
       "      <td>Kingston</td>\n",
       "      <td>20-Jun-11</td>\n",
       "      <td>2011</td>\n",
       "    </tr>\n",
       "    <tr>\n",
       "      <th>1</th>\n",
       "      <td>0</td>\n",
       "      <td>27</td>\n",
       "      <td>27</td>\n",
       "      <td>-</td>\n",
       "      <td>-</td>\n",
       "      <td>2</td>\n",
       "      <td>0</td>\n",
       "      <td>West Indies</td>\n",
       "      <td>Bridgetown</td>\n",
       "      <td>28-Jun-11</td>\n",
       "      <td>2011</td>\n",
       "    </tr>\n",
       "    <tr>\n",
       "      <th>2</th>\n",
       "      <td>30</td>\n",
       "      <td>DNB</td>\n",
       "      <td>30</td>\n",
       "      <td>-</td>\n",
       "      <td>-</td>\n",
       "      <td>1</td>\n",
       "      <td>0</td>\n",
       "      <td>West Indies</td>\n",
       "      <td>Roseau</td>\n",
       "      <td>6-Jul-11</td>\n",
       "      <td>2011</td>\n",
       "    </tr>\n",
       "    <tr>\n",
       "      <th>3</th>\n",
       "      <td>52</td>\n",
       "      <td>63</td>\n",
       "      <td>115</td>\n",
       "      <td>0</td>\n",
       "      <td>9</td>\n",
       "      <td>2</td>\n",
       "      <td>0</td>\n",
       "      <td>West Indies</td>\n",
       "      <td>Mumbai</td>\n",
       "      <td>22-Nov-11</td>\n",
       "      <td>2011</td>\n",
       "    </tr>\n",
       "    <tr>\n",
       "      <th>4</th>\n",
       "      <td>11</td>\n",
       "      <td>0</td>\n",
       "      <td>11</td>\n",
       "      <td>-</td>\n",
       "      <td>-</td>\n",
       "      <td>2</td>\n",
       "      <td>0</td>\n",
       "      <td>Australia</td>\n",
       "      <td>Melbourne</td>\n",
       "      <td>26-Dec-11</td>\n",
       "      <td>2011</td>\n",
       "    </tr>\n",
       "  </tbody>\n",
       "</table>\n",
       "</div>"
      ],
      "text/plain": [
       "  Bat1 Bat2 Runs Wkts Conc  Ct  St   Opposition      Ground Start Date  Year\n",
       "0    4   15   19    -    -   2   0  West Indies    Kingston  20-Jun-11  2011\n",
       "1    0   27   27    -    -   2   0  West Indies  Bridgetown  28-Jun-11  2011\n",
       "2   30  DNB   30    -    -   1   0  West Indies      Roseau   6-Jul-11  2011\n",
       "3   52   63  115    0    9   2   0  West Indies      Mumbai  22-Nov-11  2011\n",
       "4   11    0   11    -    -   2   0    Australia   Melbourne  26-Dec-11  2011"
      ]
     },
     "execution_count": 22,
     "metadata": {},
     "output_type": "execute_result"
    }
   ],
   "source": [
    "virat_test.head()"
   ]
  },
  {
   "cell_type": "code",
   "execution_count": 23,
   "id": "763128e4",
   "metadata": {},
   "outputs": [
    {
     "data": {
      "text/plain": [
       "array(['4', '0', '30', '52', '11', '23', '44', '116', '58', '103', '19',\n",
       "       '6', '107', '34', '67*', '1', '3', '57', '119', '46', '38', '25',\n",
       "       '39', '115', '169', '147', '14', '78', '18', 'DNB', '22', '200',\n",
       "       'TDNB', '9', '211', '40', '167', '62', '235', '15', '204', '12',\n",
       "       '13', '42', '213', '243', '5', '153', '54', '149', '97'],\n",
       "      dtype=object)"
      ]
     },
     "execution_count": 23,
     "metadata": {},
     "output_type": "execute_result"
    }
   ],
   "source": [
    "virat_test['Bat1'].unique()"
   ]
  },
  {
   "cell_type": "code",
   "execution_count": 28,
   "id": "7ab55c94",
   "metadata": {},
   "outputs": [
    {
     "name": "stderr",
     "output_type": "stream",
     "text": [
      "C:\\Users\\UMMER\\AppData\\Local\\Temp\\ipykernel_100524\\3189866005.py:5: FutureWarning: The default value of regex will change from True to False in a future version. In addition, single character regular expressions will *not* be treated as literal strings when regex=True.\n",
      "  virat_test['Bat1']=virat_test['Bat1'].str.replace('*',\"\")\n"
     ]
    }
   ],
   "source": [
    "#replacing DNB ,TDNB,TO\n",
    "virat_test['Bat1']=virat_test['Bat1'].str.replace('DNB',\"0\")\n",
    "virat_test['Bat1']=virat_test['Bat1'].str.replace('TDNB',\"0\")\n",
    "virat_test['Bat1']=virat_test['Bat1'].str.replace('T0',\"0\")\n",
    "virat_test['Bat1']=virat_test['Bat1'].str.replace('*',\"\")"
   ]
  },
  {
   "cell_type": "code",
   "execution_count": 29,
   "id": "f91badef",
   "metadata": {},
   "outputs": [
    {
     "data": {
      "text/plain": [
       "array(['4', '0', '30', '52', '11', '23', '44', '116', '58', '103', '19',\n",
       "       '6', '107', '34', '67', '1', '3', '57', '119', '46', '38', '25',\n",
       "       '39', '115', '169', '147', '14', '78', '18', '22', '200', '9',\n",
       "       '211', '40', '167', '62', '235', '15', '204', '12', '13', '42',\n",
       "       '213', '243', '5', '153', '54', '149', '97'], dtype=object)"
      ]
     },
     "execution_count": 29,
     "metadata": {},
     "output_type": "execute_result"
    }
   ],
   "source": [
    "virat_test['Bat1'].unique()"
   ]
  },
  {
   "cell_type": "code",
   "execution_count": 30,
   "id": "b357d995",
   "metadata": {},
   "outputs": [
    {
     "data": {
      "text/plain": [
       "array(['15', '27', 'DNB', '63', '0', '9', '75', '22', '-', '51*', '14*',\n",
       "       '7', '20', '34', '41', '96', '11', '67', '105*', '8', '28', '141',\n",
       "       '1', '54', '46', '3', '10', '21', '29', '16', '88', '4', '18',\n",
       "       '45', '17', '49*', '81', '6*', '38', '13', '103*', '104*', '50',\n",
       "       '5', '51', '103'], dtype=object)"
      ]
     },
     "execution_count": 30,
     "metadata": {},
     "output_type": "execute_result"
    }
   ],
   "source": [
    "virat_test['Bat2'].unique()"
   ]
  },
  {
   "cell_type": "code",
   "execution_count": 31,
   "id": "09343e1f",
   "metadata": {},
   "outputs": [
    {
     "name": "stderr",
     "output_type": "stream",
     "text": [
      "C:\\Users\\UMMER\\AppData\\Local\\Temp\\ipykernel_100524\\1470647014.py:3: FutureWarning: The default value of regex will change from True to False in a future version. In addition, single character regular expressions will *not* be treated as literal strings when regex=True.\n",
      "  virat_test['Bat2']=virat_test['Bat2'].str.replace('*',\"\")\n"
     ]
    }
   ],
   "source": [
    "virat_test['Bat2']=virat_test['Bat2'].str.replace('DNB',\"0\")\n",
    "virat_test['Bat2']=virat_test['Bat2'].str.replace('-',\"0\")\n",
    "virat_test['Bat2']=virat_test['Bat2'].str.replace('*',\"\")"
   ]
  },
  {
   "cell_type": "code",
   "execution_count": 32,
   "id": "404886af",
   "metadata": {
    "scrolled": true
   },
   "outputs": [
    {
     "data": {
      "text/plain": [
       "array(['15', '27', '0', '63', '9', '75', '22', '51', '14', '7', '20',\n",
       "       '34', '41', '96', '11', '67', '105', '8', '28', '141', '1', '54',\n",
       "       '46', '3', '10', '21', '29', '16', '88', '4', '18', '45', '17',\n",
       "       '49', '81', '6', '38', '13', '103', '104', '50', '5'], dtype=object)"
      ]
     },
     "execution_count": 32,
     "metadata": {},
     "output_type": "execute_result"
    }
   ],
   "source": [
    "virat_test['Bat2'].unique()"
   ]
  },
  {
   "cell_type": "code",
   "execution_count": 35,
   "id": "8b996e27",
   "metadata": {},
   "outputs": [
    {
     "data": {
      "text/plain": [
       "array(['-', '9', '23', '3', '18', '4', '13', '0', '5', '1'], dtype=object)"
      ]
     },
     "execution_count": 35,
     "metadata": {},
     "output_type": "execute_result"
    }
   ],
   "source": [
    "virat_test['Conc'].unique()"
   ]
  },
  {
   "cell_type": "code",
   "execution_count": 39,
   "id": "95707525",
   "metadata": {},
   "outputs": [],
   "source": [
    "virat_test['Conc']=virat_test['Conc'].str.replace('-',\"0\")"
   ]
  },
  {
   "cell_type": "code",
   "execution_count": 40,
   "id": "b9a52af5",
   "metadata": {},
   "outputs": [],
   "source": [
    "virat_test.Conc=pd.to_numeric(virat_test.Conc)\n"
   ]
  },
  {
   "cell_type": "code",
   "execution_count": 41,
   "id": "316377af",
   "metadata": {
    "scrolled": true
   },
   "outputs": [
    {
     "name": "stdout",
     "output_type": "stream",
     "text": [
      "<class 'pandas.core.frame.DataFrame'>\n",
      "RangeIndex: 69 entries, 0 to 68\n",
      "Data columns (total 11 columns):\n",
      " #   Column      Non-Null Count  Dtype \n",
      "---  ------      --------------  ----- \n",
      " 0   Bat1        69 non-null     object\n",
      " 1   Bat2        69 non-null     object\n",
      " 2   Runs        69 non-null     object\n",
      " 3   Wkts        69 non-null     object\n",
      " 4   Conc        69 non-null     int64 \n",
      " 5   Ct          69 non-null     int64 \n",
      " 6   St          69 non-null     int64 \n",
      " 7   Opposition  69 non-null     object\n",
      " 8   Ground      69 non-null     object\n",
      " 9   Start Date  69 non-null     object\n",
      " 10  Year        69 non-null     int64 \n",
      "dtypes: int64(4), object(7)\n",
      "memory usage: 6.1+ KB\n"
     ]
    }
   ],
   "source": [
    "virat_test.info()"
   ]
  },
  {
   "cell_type": "code",
   "execution_count": 48,
   "id": "b4269dcc",
   "metadata": {},
   "outputs": [
    {
     "data": {
      "text/plain": [
       "array(['19', '27', '30', '115', '11', '32', '119', '138', '58', '154',\n",
       "       '33', '26', '103', '107', '34', '101', '42', '3', '57', '215',\n",
       "       '71', '143', '9', '25', '67', '7', '256', '20', '223', '193', '14',\n",
       "       '106', '88', '39', '-', '38', '132', '200', '44', '54', '228',\n",
       "       '89', '248', '68', '235', '15', '242', '13', '6', '104', '213',\n",
       "       '293', '158', '95', '40'], dtype=object)"
      ]
     },
     "execution_count": 48,
     "metadata": {},
     "output_type": "execute_result"
    }
   ],
   "source": [
    "virat_test['Runs'].unique()"
   ]
  },
  {
   "cell_type": "code",
   "execution_count": 49,
   "id": "df344e84",
   "metadata": {},
   "outputs": [],
   "source": [
    "virat_test['Runs']=virat_test['Runs'].str.replace('-',\"0\")"
   ]
  },
  {
   "cell_type": "code",
   "execution_count": 51,
   "id": "78de33c3",
   "metadata": {},
   "outputs": [],
   "source": [
    "virat_test.Runs=pd.to_numeric(virat_test.Runs)"
   ]
  },
  {
   "cell_type": "code",
   "execution_count": 52,
   "id": "08e4d8f1",
   "metadata": {},
   "outputs": [
    {
     "data": {
      "text/plain": [
       "array([ 19,  27,  30, 115,  11,  32, 119, 138,  58, 154,  33,  26, 103,\n",
       "       107,  34, 101,  42,   3,  57, 215,  71, 143,   9,  25,  67,   7,\n",
       "       256,  20, 223, 193,  14, 106,  88,  39,   0,  38, 132, 200,  44,\n",
       "        54, 228,  89, 248,  68, 235,  15, 242,  13,   6, 104, 213, 293,\n",
       "       158,  95,  40], dtype=int64)"
      ]
     },
     "execution_count": 52,
     "metadata": {},
     "output_type": "execute_result"
    }
   ],
   "source": [
    "virat_test['Runs'].unique()"
   ]
  },
  {
   "cell_type": "code",
   "execution_count": 55,
   "id": "66df09e0",
   "metadata": {},
   "outputs": [],
   "source": [
    "virat_test.Bat1=pd.to_numeric(virat_test.Bat1)\n",
    "virat_test.Bat2=pd.to_numeric(virat_test.Bat2)"
   ]
  },
  {
   "cell_type": "code",
   "execution_count": 56,
   "id": "ec6bcc1e",
   "metadata": {},
   "outputs": [
    {
     "name": "stdout",
     "output_type": "stream",
     "text": [
      "<class 'pandas.core.frame.DataFrame'>\n",
      "RangeIndex: 69 entries, 0 to 68\n",
      "Data columns (total 11 columns):\n",
      " #   Column      Non-Null Count  Dtype \n",
      "---  ------      --------------  ----- \n",
      " 0   Bat1        69 non-null     int64 \n",
      " 1   Bat2        69 non-null     int64 \n",
      " 2   Runs        69 non-null     int64 \n",
      " 3   Wkts        69 non-null     object\n",
      " 4   Conc        69 non-null     int64 \n",
      " 5   Ct          69 non-null     int64 \n",
      " 6   St          69 non-null     int64 \n",
      " 7   Opposition  69 non-null     object\n",
      " 8   Ground      69 non-null     object\n",
      " 9   Start Date  69 non-null     object\n",
      " 10  Year        69 non-null     int64 \n",
      "dtypes: int64(7), object(4)\n",
      "memory usage: 6.1+ KB\n"
     ]
    }
   ],
   "source": [
    "virat_test.info()"
   ]
  },
  {
   "cell_type": "code",
   "execution_count": null,
   "id": "f7029270",
   "metadata": {},
   "outputs": [],
   "source": [
    "Q:Ttal runs scored?"
   ]
  },
  {
   "cell_type": "code",
   "execution_count": 54,
   "id": "f2175c41",
   "metadata": {},
   "outputs": [
    {
     "data": {
      "text/plain": [
       "5994"
      ]
     },
     "execution_count": 54,
     "metadata": {},
     "output_type": "execute_result"
    }
   ],
   "source": [
    "totruns=virat_test.Runs.sum()\n",
    "totruns"
   ]
  },
  {
   "cell_type": "code",
   "execution_count": 63,
   "id": "84e4642d",
   "metadata": {},
   "outputs": [
    {
     "name": "stdout",
     "output_type": "stream",
     "text": [
      "4077 1917\n"
     ]
    }
   ],
   "source": [
    "innings1=virat_test.Bat1.sum()\n",
    "innings2=virat_test.Bat2.sum()\n",
    "print(innings1,innings2)"
   ]
  },
  {
   "cell_type": "code",
   "execution_count": 71,
   "id": "6575c465",
   "metadata": {
    "scrolled": true
   },
   "outputs": [
    {
     "data": {
      "text/plain": [
       "<function matplotlib.pyplot.show(close=None, block=None)>"
      ]
     },
     "execution_count": 71,
     "metadata": {},
     "output_type": "execute_result"
    },
    {
     "data": {
      "image/png": "[encoded data removed]",
      "text/plain": [
       "<Figure size 432x432 with 1 Axes>"
      ]
     },
     "metadata": {},
     "output_type": "display_data"
    }
   ],
   "source": [
    "#pie chart for showing percentage of 1st and 2nd innings\n",
    "slices=[virat_test['Bat1'].sum(),virat_test['Bat2'].sum()]\n",
    "labels=['1st innings','2nd innings']\n",
    "plt.pie(slices,labels=labels,autopct='%1.0f%%',pctdistance=.5,labeldistance=1.2,shadow=True)\n",
    "fig=plt.gcf()\n",
    "plt.title(\"1st vs 2nd percentage\",bbox={'facecolor':\"1\",'pad':5})\n",
    "fig.set_size_inches(6,6)\n",
    "plt.show"
   ]
  },
  {
   "cell_type": "code",
   "execution_count": null,
   "id": "1bfc734b",
   "metadata": {},
   "outputs": [],
   "source": [
    "Q:count of 1st innings and 2nd innings centuries?\n",
    "    "
   ]
  },
  {
   "cell_type": "code",
   "execution_count": 75,
   "id": "aab1c555",
   "metadata": {},
   "outputs": [
    {
     "name": "stdout",
     "output_type": "stream",
     "text": [
      "18 5\n"
     ]
    }
   ],
   "source": [
    "count1=virat_test[virat_test['Bat1']>100].shape[0]\n",
    "count2=virat_test[virat_test['Bat2']>100].shape[0]\n",
    "print(count1,count2)"
   ]
  },
  {
   "cell_type": "code",
   "execution_count": 76,
   "id": "6024bcc0",
   "metadata": {},
   "outputs": [
    {
     "data": {
      "text/plain": [
       "23"
      ]
     },
     "execution_count": 76,
     "metadata": {},
     "output_type": "execute_result"
    }
   ],
   "source": [
    "total=count1+count2\n",
    "total"
   ]
  },
  {
   "cell_type": "code",
   "execution_count": null,
   "id": "af292be1",
   "metadata": {},
   "outputs": [],
   "source": [
    "Q:print total runs scored against England?"
   ]
  },
  {
   "cell_type": "code",
   "execution_count": 72,
   "id": "c58d51ad",
   "metadata": {},
   "outputs": [
    {
     "data": {
      "text/plain": [
       "array(['West Indies', 'Australia', 'New Zealand', 'England',\n",
       "       'South Africa', 'Bangladesh', 'Sri Lanka'], dtype=object)"
      ]
     },
     "execution_count": 72,
     "metadata": {},
     "output_type": "execute_result"
    }
   ],
   "source": [
    "virat_test['Opposition'].unique()"
   ]
  },
  {
   "cell_type": "code",
   "execution_count": 73,
   "id": "26b40575",
   "metadata": {
    "scrolled": true
   },
   "outputs": [
    {
     "data": {
      "text/plain": [
       "1417"
      ]
     },
     "execution_count": 73,
     "metadata": {},
     "output_type": "execute_result"
    }
   ],
   "source": [
    "virat_test[virat_test['Opposition']=='England'].Runs.sum()"
   ]
  },
  {
   "cell_type": "code",
   "execution_count": 77,
   "id": "e05afd81",
   "metadata": {},
   "outputs": [
    {
     "data": {
      "image/png": "[encoded data removed]",
      "text/plain": [
       "<Figure size 432x288 with 1 Axes>"
      ]
     },
     "metadata": {
      "needs_background": "light"
     },
     "output_type": "display_data"
    },
    {
     "data": {
      "text/plain": [
       "<Figure size 1440x1152 with 0 Axes>"
      ]
     },
     "metadata": {},
     "output_type": "display_data"
    }
   ],
   "source": [
    "sns.countplot(y=virat_test['Opposition'])\n",
    "plt.title('No of matches played against each team')\n",
    "plt.figure(figsize=(20,16))\n",
    "plt.show()"
   ]
  },
  {
   "cell_type": "code",
   "execution_count": 79,
   "id": "a5187f41",
   "metadata": {
    "scrolled": true
   },
   "outputs": [
    {
     "data": {
      "image/png": "[encoded data removed]",
      "text/plain": [
       "<Figure size 432x288 with 1 Axes>"
      ]
     },
     "metadata": {
      "needs_background": "light"
     },
     "output_type": "display_data"
    },
    {
     "data": {
      "text/plain": [
       "<Figure size 720x1152 with 0 Axes>"
      ]
     },
     "metadata": {},
     "output_type": "display_data"
    }
   ],
   "source": [
    "sns.countplot(y=virat_test['Year'])\n",
    "plt.title('No of matches played in each year')\n",
    "plt.figure(figsize=(10,16))\n",
    "plt.show()"
   ]
  },
  {
   "cell_type": "code",
   "execution_count": 80,
   "id": "8d911fa3",
   "metadata": {},
   "outputs": [
    {
     "data": {
      "text/plain": [
       "<AxesSubplot:title={'center':'runs scored against each team'}, xlabel='Opposition'>"
      ]
     },
     "execution_count": 80,
     "metadata": {},
     "output_type": "execute_result"
    },
    {
     "data": {
      "image/png": "[encoded data removed]",
      "text/plain": [
       "<Figure size 1152x576 with 1 Axes>"
      ]
     },
     "metadata": {
      "needs_background": "light"
     },
     "output_type": "display_data"
    }
   ],
   "source": [
    "fig=plt.figure(figsize=(16,8))\n",
    "fig.add_subplot(221)\n",
    "virat_test.groupby('Opposition').Runs.sum().plot(kind='bar',title='runs scored against each team')"
   ]
  },
  {
   "cell_type": "code",
   "execution_count": 81,
   "id": "43f0d37a",
   "metadata": {
    "scrolled": true
   },
   "outputs": [
    {
     "data": {
      "text/plain": [
       "<AxesSubplot:title={'center':'runs scored in each year'}, xlabel='Year'>"
      ]
     },
     "execution_count": 81,
     "metadata": {},
     "output_type": "execute_result"
    },
    {
     "data": {
      "image/png": "[encoded data removed]",
      "text/plain": [
       "<Figure size 1440x1080 with 1 Axes>"
      ]
     },
     "metadata": {
      "needs_background": "light"
     },
     "output_type": "display_data"
    }
   ],
   "source": [
    "fig=plt.figure(figsize=(20,15))\n",
    "fig.add_subplot(221)\n",
    "virat_test.groupby('Year').Runs.sum().plot(marker='o',title='runs scored in each year')"
   ]
  },
  {
   "cell_type": "code",
   "execution_count": 82,
   "id": "a7b5b23c",
   "metadata": {
    "scrolled": false
   },
   "outputs": [
    {
     "data": {
      "text/plain": [
       "<AxesSubplot:title={'center':'runs scored against each venue'}, xlabel='Ground'>"
      ]
     },
     "execution_count": 82,
     "metadata": {},
     "output_type": "execute_result"
    },
    {
     "data": {
      "image/png": "[encoded data removed]",
      "text/plain": [
       "<Figure size 1728x864 with 1 Axes>"
      ]
     },
     "metadata": {
      "needs_background": "light"
     },
     "output_type": "display_data"
    }
   ],
   "source": [
    "fig=plt.figure(figsize=(24,12))\n",
    "fig.add_subplot(221)\n",
    "virat_test.groupby('Ground').Runs.sum().plot(kind='bar',title='runs scored against each venue')"
   ]
  },
  {
   "cell_type": "code",
   "execution_count": 88,
   "id": "d8b32dd6",
   "metadata": {},
   "outputs": [
    {
     "data": {
      "text/plain": [
       "<AxesSubplot:title={'center':'centuries in innings1'}, xlabel='Opposition'>"
      ]
     },
     "execution_count": 88,
     "metadata": {},
     "output_type": "execute_result"
    },
    {
     "data": {
      "image/png": "[encoded data removed]",
      "text/plain": [
       "<Figure size 1152x576 with 1 Axes>"
      ]
     },
     "metadata": {
      "needs_background": "light"
     },
     "output_type": "display_data"
    }
   ],
   "source": [
    "inn1=virat_test['Bat1']>100\n",
    "data1=virat_test[inn1]\n",
    "fig=plt.figure(figsize=(16,8))\n",
    "fig.add_subplot(221)\n",
    "data1.groupby('Opposition').Bat1.count().plot(kind='bar',title='centuries in innings1')"
   ]
  },
  {
   "cell_type": "code",
   "execution_count": 89,
   "id": "e234c494",
   "metadata": {
    "scrolled": true
   },
   "outputs": [
    {
     "data": {
      "text/plain": [
       "<AxesSubplot:title={'center':'centuries in innings2'}, xlabel='Opposition'>"
      ]
     },
     "execution_count": 89,
     "metadata": {},
     "output_type": "execute_result"
    },
    {
     "data": {
      "image/png": "[encoded data removed]",
      "text/plain": [
       "<Figure size 1152x576 with 1 Axes>"
      ]
     },
     "metadata": {
      "needs_background": "light"
     },
     "output_type": "display_data"
    }
   ],
   "source": [
    "inn2=virat_test['Bat2']>100\n",
    "data2=virat_test[inn2]\n",
    "fig=plt.figure(figsize=(16,8))\n",
    "fig.add_subplot(221)\n",
    "data2.groupby('Opposition').Bat2.count().plot(kind='bar',title='centuries in innings2')"
   ]
  },
  {
   "cell_type": "code",
   "execution_count": 90,
   "id": "4b07106c",
   "metadata": {
    "scrolled": true
   },
   "outputs": [
    {
     "data": {
      "text/html": [
       "<div>\n",
       "<style scoped>\n",
       "    .dataframe tbody tr th:only-of-type {\n",
       "        vertical-align: middle;\n",
       "    }\n",
       "\n",
       "    .dataframe tbody tr th {\n",
       "        vertical-align: top;\n",
       "    }\n",
       "\n",
       "    .dataframe thead th {\n",
       "        text-align: right;\n",
       "    }\n",
       "</style>\n",
       "<table border=\"1\" class=\"dataframe\">\n",
       "  <thead>\n",
       "    <tr style=\"text-align: right;\">\n",
       "      <th></th>\n",
       "      <th>Bat1</th>\n",
       "      <th>Bat2</th>\n",
       "      <th>Runs</th>\n",
       "      <th>Wkts</th>\n",
       "      <th>Conc</th>\n",
       "      <th>Ct</th>\n",
       "      <th>St</th>\n",
       "      <th>Opposition</th>\n",
       "      <th>Ground</th>\n",
       "      <th>Start Date</th>\n",
       "      <th>Year</th>\n",
       "    </tr>\n",
       "  </thead>\n",
       "  <tbody>\n",
       "    <tr>\n",
       "      <th>41</th>\n",
       "      <td>200</td>\n",
       "      <td>0</td>\n",
       "      <td>200</td>\n",
       "      <td>-</td>\n",
       "      <td>0</td>\n",
       "      <td>2</td>\n",
       "      <td>0</td>\n",
       "      <td>West Indies</td>\n",
       "      <td>North Sound</td>\n",
       "      <td>21-Jul-16</td>\n",
       "      <td>2016</td>\n",
       "    </tr>\n",
       "    <tr>\n",
       "      <th>47</th>\n",
       "      <td>211</td>\n",
       "      <td>17</td>\n",
       "      <td>228</td>\n",
       "      <td>-</td>\n",
       "      <td>0</td>\n",
       "      <td>2</td>\n",
       "      <td>0</td>\n",
       "      <td>New Zealand</td>\n",
       "      <td>Indore</td>\n",
       "      <td>8-Oct-16</td>\n",
       "      <td>2016</td>\n",
       "    </tr>\n",
       "    <tr>\n",
       "      <th>51</th>\n",
       "      <td>235</td>\n",
       "      <td>0</td>\n",
       "      <td>235</td>\n",
       "      <td>-</td>\n",
       "      <td>0</td>\n",
       "      <td>2</td>\n",
       "      <td>0</td>\n",
       "      <td>England</td>\n",
       "      <td>Mumbai</td>\n",
       "      <td>8-Dec-16</td>\n",
       "      <td>2016</td>\n",
       "    </tr>\n",
       "    <tr>\n",
       "      <th>53</th>\n",
       "      <td>204</td>\n",
       "      <td>38</td>\n",
       "      <td>242</td>\n",
       "      <td>-</td>\n",
       "      <td>0</td>\n",
       "      <td>1</td>\n",
       "      <td>0</td>\n",
       "      <td>Bangladesh</td>\n",
       "      <td>Hyderabad (Deccan)</td>\n",
       "      <td>9-Feb-17</td>\n",
       "      <td>2017</td>\n",
       "    </tr>\n",
       "    <tr>\n",
       "      <th>61</th>\n",
       "      <td>213</td>\n",
       "      <td>0</td>\n",
       "      <td>213</td>\n",
       "      <td>-</td>\n",
       "      <td>0</td>\n",
       "      <td>1</td>\n",
       "      <td>0</td>\n",
       "      <td>Sri Lanka</td>\n",
       "      <td>Nagpur</td>\n",
       "      <td>24-Nov-17</td>\n",
       "      <td>2017</td>\n",
       "    </tr>\n",
       "    <tr>\n",
       "      <th>62</th>\n",
       "      <td>243</td>\n",
       "      <td>50</td>\n",
       "      <td>293</td>\n",
       "      <td>0</td>\n",
       "      <td>1</td>\n",
       "      <td>0</td>\n",
       "      <td>0</td>\n",
       "      <td>Sri Lanka</td>\n",
       "      <td>Delhi</td>\n",
       "      <td>2-Dec-17</td>\n",
       "      <td>2017</td>\n",
       "    </tr>\n",
       "  </tbody>\n",
       "</table>\n",
       "</div>"
      ],
      "text/plain": [
       "    Bat1  Bat2  Runs Wkts  Conc  Ct  St   Opposition              Ground  \\\n",
       "41   200     0   200    -     0   2   0  West Indies         North Sound   \n",
       "47   211    17   228    -     0   2   0  New Zealand              Indore   \n",
       "51   235     0   235    -     0   2   0      England              Mumbai   \n",
       "53   204    38   242    -     0   1   0   Bangladesh  Hyderabad (Deccan)   \n",
       "61   213     0   213    -     0   1   0    Sri Lanka              Nagpur   \n",
       "62   243    50   293    0     1   0   0    Sri Lanka               Delhi   \n",
       "\n",
       "   Start Date  Year  \n",
       "41  21-Jul-16  2016  \n",
       "47   8-Oct-16  2016  \n",
       "51   8-Dec-16  2016  \n",
       "53   9-Feb-17  2017  \n",
       "61  24-Nov-17  2017  \n",
       "62   2-Dec-17  2017  "
      ]
     },
     "execution_count": 90,
     "metadata": {},
     "output_type": "execute_result"
    }
   ],
   "source": [
    "#checking double centuries\n",
    "inn1=virat_test['Bat1']>=200\n",
    "virat_test[inn1]"
   ]
  },
  {
   "cell_type": "code",
   "execution_count": 91,
   "id": "31de6416",
   "metadata": {
    "scrolled": true
   },
   "outputs": [
    {
     "name": "stdout",
     "output_type": "stream",
     "text": [
      "no of double centuries in 1st innings\n"
     ]
    },
    {
     "data": {
      "text/plain": [
       "6"
      ]
     },
     "execution_count": 91,
     "metadata": {},
     "output_type": "execute_result"
    }
   ],
   "source": [
    "print('no of double centuries in 1st innings')\n",
    "virat_test[inn1].shape[0]"
   ]
  },
  {
   "cell_type": "code",
   "execution_count": 93,
   "id": "d65e06fa",
   "metadata": {},
   "outputs": [
    {
     "data": {
      "text/html": [
       "<div>\n",
       "<style scoped>\n",
       "    .dataframe tbody tr th:only-of-type {\n",
       "        vertical-align: middle;\n",
       "    }\n",
       "\n",
       "    .dataframe tbody tr th {\n",
       "        vertical-align: top;\n",
       "    }\n",
       "\n",
       "    .dataframe thead th {\n",
       "        text-align: right;\n",
       "    }\n",
       "</style>\n",
       "<table border=\"1\" class=\"dataframe\">\n",
       "  <thead>\n",
       "    <tr style=\"text-align: right;\">\n",
       "      <th></th>\n",
       "      <th>Bat1</th>\n",
       "      <th>Bat2</th>\n",
       "      <th>Runs</th>\n",
       "      <th>Wkts</th>\n",
       "      <th>Conc</th>\n",
       "      <th>Ct</th>\n",
       "      <th>St</th>\n",
       "      <th>Opposition</th>\n",
       "      <th>Ground</th>\n",
       "      <th>Start Date</th>\n",
       "      <th>Year</th>\n",
       "    </tr>\n",
       "  </thead>\n",
       "  <tbody>\n",
       "  </tbody>\n",
       "</table>\n",
       "</div>"
      ],
      "text/plain": [
       "Empty DataFrame\n",
       "Columns: [Bat1, Bat2, Runs, Wkts, Conc, Ct, St, Opposition, Ground, Start Date, Year]\n",
       "Index: []"
      ]
     },
     "execution_count": 93,
     "metadata": {},
     "output_type": "execute_result"
    }
   ],
   "source": [
    "inn2=virat_test['Bat2']>=200\n",
    "virat_test[inn2]"
   ]
  },
  {
   "cell_type": "code",
   "execution_count": 94,
   "id": "597238e4",
   "metadata": {},
   "outputs": [
    {
     "name": "stdout",
     "output_type": "stream",
     "text": [
      "no of double centuries in 2nd innings\n"
     ]
    },
    {
     "data": {
      "text/plain": [
       "0"
      ]
     },
     "execution_count": 94,
     "metadata": {},
     "output_type": "execute_result"
    }
   ],
   "source": [
    "print('no of double centuries in 2nd innings')\n",
    "virat_test[inn2].shape[0]"
   ]
  },
  {
   "cell_type": "code",
   "execution_count": 83,
   "id": "bc2cb25a",
   "metadata": {},
   "outputs": [
    {
     "name": "stdout",
     "output_type": "stream",
     "text": [
      "total venues played: 43\n"
     ]
    }
   ],
   "source": [
    "print('total venues played:',virat_test['Ground'].nunique())"
   ]
  },
  {
   "cell_type": "code",
   "execution_count": null,
   "id": "50477936",
   "metadata": {},
   "outputs": [],
   "source": [
    "Q:how many runs kohli concived?"
   ]
  },
  {
   "cell_type": "code",
   "execution_count": 46,
   "id": "78a50d03",
   "metadata": {},
   "outputs": [
    {
     "data": {
      "text/plain": [
       "76"
      ]
     },
     "execution_count": 46,
     "metadata": {},
     "output_type": "execute_result"
    }
   ],
   "source": [
    "conrun=virat_test.Conc.sum()\n",
    "conrun"
   ]
  },
  {
   "cell_type": "code",
   "execution_count": null,
   "id": "4660ae66",
   "metadata": {},
   "outputs": [],
   "source": [
    "Q:how many catches virat took?"
   ]
  },
  {
   "cell_type": "code",
   "execution_count": 34,
   "id": "8ad54dba",
   "metadata": {},
   "outputs": [
    {
     "data": {
      "text/plain": [
       "65"
      ]
     },
     "execution_count": 34,
     "metadata": {},
     "output_type": "execute_result"
    }
   ],
   "source": [
    "catches=virat_test['Ct'].sum()\n",
    "catches"
   ]
  },
  {
   "cell_type": "markdown",
   "id": "c21f241a",
   "metadata": {},
   "source": [
    "Q:finding how many times virat got out in 0?"
   ]
  },
  {
   "cell_type": "code",
   "execution_count": 19,
   "id": "b5054716",
   "metadata": {},
   "outputs": [
    {
     "name": "stdout",
     "output_type": "stream",
     "text": [
      "no of tmes got out 0:\n"
     ]
    },
    {
     "data": {
      "text/plain": [
       "6"
      ]
     },
     "execution_count": 19,
     "metadata": {},
     "output_type": "execute_result"
    }
   ],
   "source": [
    "print('no of tmes got out 0:')\n",
    "((virat_test.Bat1=='0')|(virat_test.Bat2=='0')).sum() "
   ]
  }
 ],
 "metadata": {
  "kernelspec": {
   "display_name": "Python 3 (ipykernel)",
   "language": "python",
   "name": "python3"
  },
  "language_info": {
   "codemirror_mode": {
    "name": "ipython",
    "version": 3
   },
   "file_extension": ".py",
   "mimetype": "text/x-python",
   "name": "python",
   "nbconvert_exporter": "python",
   "pygments_lexer": "ipython3",
   "version": "3.9.12"
  }
 },
 "nbformat": 4,
 "nbformat_minor": 5
}
